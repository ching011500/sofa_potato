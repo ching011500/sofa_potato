{
 "cells": [
  {
   "cell_type": "code",
   "execution_count": 1,
   "metadata": {},
   "outputs": [
    {
     "name": "stdout",
     "output_type": "stream",
     "text": [
      "資料庫與表格建立完成！\n"
     ]
    }
   ],
   "source": [
    "import sqlite3\n",
    "\n",
    "# 連接（或建立）資料庫\n",
    "conn = sqlite3.connect(\"my_database.db\")\n",
    "\n",
    "# 建立游標\n",
    "cursor = conn.cursor()\n",
    "\n",
    "# 建立 customers 資料表\n",
    "cursor.execute(\"\"\"\n",
    "CREATE TABLE IF NOT EXISTS customers (\n",
    "    id INTEGER PRIMARY KEY AUTOINCREMENT,\n",
    "    name TEXT NOT NULL,\n",
    "    age INTEGER,\n",
    "    email TEXT UNIQUE\n",
    ");\n",
    "\"\"\")\n",
    "\n",
    "# 提交變更並關閉連線\n",
    "conn.commit()\n",
    "conn.close()\n",
    "\n",
    "print(\"資料庫與表格建立完成！\")\n"
   ]
  },
  {
   "cell_type": "code",
   "execution_count": 1,
   "metadata": {},
   "outputs": [
    {
     "name": "stdout",
     "output_type": "stream",
     "text": [
      "資料插入成功！\n"
     ]
    }
   ],
   "source": [
    "import sqlite3\n",
    "\n",
    "conn = sqlite3.connect(\"my_database.db\")\n",
    "cursor = conn.cursor()\n",
    "\n",
    "# 插入資料\n",
    "cursor.execute(\"INSERT INTO customers (name, age, email) VALUES (?, ?, ?)\", \n",
    "               (\"Alice\", 25, \"alice@example.com\"))\n",
    "cursor.execute(\"INSERT INTO customers (name, age, email) VALUES (?, ?, ?)\", \n",
    "               (\"Bob\", 30, \"bob@example.com\"))\n",
    "\n",
    "conn.commit()\n",
    "conn.close()\n",
    "\n",
    "print(\"資料插入成功！\")"
   ]
  },
  {
   "cell_type": "code",
   "execution_count": 2,
   "metadata": {},
   "outputs": [
    {
     "name": "stdout",
     "output_type": "stream",
     "text": [
      "(1, 'Alice', 25, 'alice@example.com')\n",
      "(2, 'Bob', 30, 'bob@example.com')\n"
     ]
    }
   ],
   "source": [
    "import sqlite3\n",
    "\n",
    "conn = sqlite3.connect(\"my_database.db\")\n",
    "cursor = conn.cursor()\n",
    "\n",
    "# 查詢所有資料\n",
    "cursor.execute(\"SELECT * FROM customers\")\n",
    "rows = cursor.fetchall()\n",
    "\n",
    "# 輸出結果\n",
    "for row in rows:\n",
    "    print(row)\n",
    "\n",
    "conn.close()\n"
   ]
  }
 ],
 "metadata": {
  "kernelspec": {
   "display_name": "myenv",
   "language": "python",
   "name": "python3"
  },
  "language_info": {
   "codemirror_mode": {
    "name": "ipython",
    "version": 3
   },
   "file_extension": ".py",
   "mimetype": "text/x-python",
   "name": "python",
   "nbconvert_exporter": "python",
   "pygments_lexer": "ipython3",
   "version": "3.12.6"
  }
 },
 "nbformat": 4,
 "nbformat_minor": 2
}
