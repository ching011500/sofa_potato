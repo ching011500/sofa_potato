{
 "cells": [
  {
   "cell_type": "code",
   "execution_count": 4,
   "metadata": {},
   "outputs": [],
   "source": [
    "import requests\n",
    "from bs4 import BeautifulSoup as bs\n",
    "import re"
   ]
  },
  {
   "cell_type": "markdown",
   "metadata": {},
   "source": [
    "Grab all fun facts that use word \"is\""
   ]
  },
  {
   "cell_type": "code",
   "execution_count": 14,
   "metadata": {},
   "outputs": [
    {
     "data": {
      "text/plain": [
       "['Middle name is Ronald',\n",
       " 'Dunkin Donuts coffee is better than Starbucks',\n",
       " 'A favorite book series of mine is ',\n",
       " 'Current video game of choice is ',\n",
       " \"The band that I've seen the most times live is the \"]"
      ]
     },
     "execution_count": 14,
     "metadata": {},
     "output_type": "execute_result"
    }
   ],
   "source": [
    "r = requests.get('https://keithgalli.github.io/web-scraping/webpage.html')\n",
    "\n",
    "webpage = bs(r.content)\n",
    "\n",
    "facts = webpage.select('ul.fun-facts li')\n",
    "facts_with_is = [fact.find(string = re.compile('is')) for fact in facts]\n",
    "facts_with_is = [fact for fact in facts_with_is if fact] # remove None values\n",
    "facts_with_is\n"
   ]
  }
 ],
 "metadata": {
  "kernelspec": {
   "display_name": "base",
   "language": "python",
   "name": "python3"
  },
  "language_info": {
   "codemirror_mode": {
    "name": "ipython",
    "version": 3
   },
   "file_extension": ".py",
   "mimetype": "text/x-python",
   "name": "python",
   "nbconvert_exporter": "python",
   "pygments_lexer": "ipython3",
   "version": "3.12.4"
  }
 },
 "nbformat": 4,
 "nbformat_minor": 2
}
