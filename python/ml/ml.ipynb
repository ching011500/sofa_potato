{
 "cells": [
  {
   "cell_type": "code",
   "execution_count": 28,
   "metadata": {},
   "outputs": [
    {
     "data": {
      "text/plain": [
       "1.0"
      ]
     },
     "execution_count": 28,
     "metadata": {},
     "output_type": "execute_result"
    }
   ],
   "source": [
    "import pandas as pd\n",
    "from sklearn.tree import DecisionTreeClassifier\n",
    "from sklearn.model_selection import train_test_split\n",
    "from sklearn.metrics import accuracy_score\n",
    "\n",
    "df = pd.read_csv('music.csv')\n",
    "x = df.drop(columns = ['genre'])\n",
    "y = df['genre']\n",
    "\n",
    "train_x, test_x, train_y, test_y = train_test_split(x, y, test_size = 0.2) \n",
    "# 20% of the data is used for testing\n",
    "\n",
    "model = DecisionTreeClassifier() # create a model\n",
    "model.fit(train_x, train_y) # train the model\n",
    "\n",
    "predictions = model.predict(test_x) # predict the genre of the test data\n",
    "\n",
    "score = accuracy_score(test_y, predictions) # 1.0 is perfect, 0.0 is bad \n",
    "score"
   ]
  },
  {
   "cell_type": "code",
   "execution_count": 31,
   "metadata": {},
   "outputs": [
    {
     "name": "stderr",
     "output_type": "stream",
     "text": [
      "/opt/anaconda3/envs/myenv/lib/python3.12/site-packages/sklearn/base.py:493: UserWarning: X does not have valid feature names, but DecisionTreeClassifier was fitted with feature names\n",
      "  warnings.warn(\n"
     ]
    },
    {
     "data": {
      "text/plain": [
       "array(['HipHop'], dtype=object)"
      ]
     },
     "execution_count": 31,
     "metadata": {},
     "output_type": "execute_result"
    }
   ],
   "source": [
    "import pandas as pd\n",
    "from sklearn.tree import DecisionTreeClassifier\n",
    "import joblib\n",
    "\n",
    "# df = pd.read_csv('music.csv')\n",
    "# x = df.drop(columns = ['genre'])\n",
    "# y = df['genre']\n",
    "\n",
    "# model = DecisionTreeClassifier() # create a model\n",
    "# model.fit(x, y) # train the model\n",
    "\n",
    "# joblib.dump(model, 'music-recommender.joblib') # save the model to a file\n",
    "# dump 完成後，可以將 music-recommender.joblib 拿來使用（load model）\n",
    "\n",
    "model = joblib.load('music-recommender.joblib') # load the model from a file\n",
    "predictions = model.predict([[21, 1]]) # predict the genre of the test data\n",
    "predictions"
   ]
  },
  {
   "cell_type": "code",
   "execution_count": 32,
   "metadata": {},
   "outputs": [],
   "source": [
    "import pandas as pd\n",
    "from sklearn.tree import DecisionTreeClassifier\n",
    "from sklearn import tree\n",
    "\n",
    "df = pd.read_csv('music.csv')\n",
    "x = df.drop(columns = ['genre'])\n",
    "y = df['genre']\n",
    "\n",
    "model = DecisionTreeClassifier() # create a model\n",
    "model.fit(x, y) # train the model\n",
    "\n",
    "tree.export_graphviz(model, out_file = 'music-recommender.dot', \n",
    "                     feature_names = ['age', 'gender'], \n",
    "                     class_names = sorted(y.unique()), \n",
    "                     label = 'all', rounded = True,\n",
    "                     filled = True) # export the model to a file"
   ]
  }
 ],
 "metadata": {
  "kernelspec": {
   "display_name": "myenv",
   "language": "python",
   "name": "python3"
  },
  "language_info": {
   "codemirror_mode": {
    "name": "ipython",
    "version": 3
   },
   "file_extension": ".py",
   "mimetype": "text/x-python",
   "name": "python",
   "nbconvert_exporter": "python",
   "pygments_lexer": "ipython3",
   "version": "3.12.6"
  }
 },
 "nbformat": 4,
 "nbformat_minor": 2
}
