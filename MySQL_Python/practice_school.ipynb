{
 "cells": [
  {
   "cell_type": "code",
   "execution_count": 2,
   "metadata": {},
   "outputs": [
    {
     "name": "stdout",
     "output_type": "stream",
     "text": [
      "   id name  age  class_id gender\n",
      "0   1   小明   16     101.0      男\n",
      "1   2   小美   15     102.0      女\n",
      "2   3   小華   17     101.0      男\n",
      "3   4   小綠   16     103.0      女\n",
      "4   5   小藍   17       NaN      男\n"
     ]
    }
   ],
   "source": [
    "from sqlalchemy import create_engine\n",
    "import pandas as pd\n",
    "\n",
    "# 建立連線引擎（root 無密碼的情況）\n",
    "engine = create_engine(\"mysql+pymysql://root:@localhost/school\")\n",
    "\n",
    "# 用 pandas 讀取資料表\n",
    "df = pd.read_sql(\"SELECT * FROM students\", engine)\n",
    "print(df)"
   ]
  }
 ],
 "metadata": {
  "kernelspec": {
   "display_name": "myenv",
   "language": "python",
   "name": "python3"
  },
  "language_info": {
   "codemirror_mode": {
    "name": "ipython",
    "version": 3
   },
   "file_extension": ".py",
   "mimetype": "text/x-python",
   "name": "python",
   "nbconvert_exporter": "python",
   "pygments_lexer": "ipython3",
   "version": "3.12.6"
  }
 },
 "nbformat": 4,
 "nbformat_minor": 2
}
