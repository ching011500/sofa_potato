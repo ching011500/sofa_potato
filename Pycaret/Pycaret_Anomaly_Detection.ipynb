{
 "cells": [
  {
   "cell_type": "markdown",
   "metadata": {},
   "source": [
    "# Anomaly Detection\n",
    "---\n",
    "模組簡介：\n",
    "屬於 **非監督式學習（Unsupervised Learning）** 的一種，用來找出：\n",
    "「在某些特徵上與多數資料明顯不同」的觀察值（也就是異常值、離群點、異常事件）。\n",
    "\n",
    "這個模組的目的是：\n",
    "- 辨識出那些稀有（rare）或異常（anomalous）的樣本\n",
    "- 這些樣本可能潛藏風險或錯誤，因為它們與其他觀察值「差異很大」"
   ]
  },
  {
   "cell_type": "markdown",
   "metadata": {},
   "source": [
    "## load sample dataset"
   ]
  },
  {
   "cell_type": "code",
   "execution_count": 1,
   "metadata": {},
   "outputs": [
    {
     "data": {
      "text/html": [
       "<div>\n",
       "<style scoped>\n",
       "    .dataframe tbody tr th:only-of-type {\n",
       "        vertical-align: middle;\n",
       "    }\n",
       "\n",
       "    .dataframe tbody tr th {\n",
       "        vertical-align: top;\n",
       "    }\n",
       "\n",
       "    .dataframe thead th {\n",
       "        text-align: right;\n",
       "    }\n",
       "</style>\n",
       "<table border=\"1\" class=\"dataframe\">\n",
       "  <thead>\n",
       "    <tr style=\"text-align: right;\">\n",
       "      <th></th>\n",
       "      <th>Col1</th>\n",
       "      <th>Col2</th>\n",
       "      <th>Col3</th>\n",
       "      <th>Col4</th>\n",
       "      <th>Col5</th>\n",
       "      <th>Col6</th>\n",
       "      <th>Col7</th>\n",
       "      <th>Col8</th>\n",
       "      <th>Col9</th>\n",
       "      <th>Col10</th>\n",
       "    </tr>\n",
       "  </thead>\n",
       "  <tbody>\n",
       "    <tr>\n",
       "      <th>0</th>\n",
       "      <td>0.263995</td>\n",
       "      <td>0.764929</td>\n",
       "      <td>0.138424</td>\n",
       "      <td>0.935242</td>\n",
       "      <td>0.605867</td>\n",
       "      <td>0.518790</td>\n",
       "      <td>0.912225</td>\n",
       "      <td>0.608234</td>\n",
       "      <td>0.723782</td>\n",
       "      <td>0.733591</td>\n",
       "    </tr>\n",
       "    <tr>\n",
       "      <th>1</th>\n",
       "      <td>0.546092</td>\n",
       "      <td>0.653975</td>\n",
       "      <td>0.065575</td>\n",
       "      <td>0.227772</td>\n",
       "      <td>0.845269</td>\n",
       "      <td>0.837066</td>\n",
       "      <td>0.272379</td>\n",
       "      <td>0.331679</td>\n",
       "      <td>0.429297</td>\n",
       "      <td>0.367422</td>\n",
       "    </tr>\n",
       "    <tr>\n",
       "      <th>2</th>\n",
       "      <td>0.336714</td>\n",
       "      <td>0.538842</td>\n",
       "      <td>0.192801</td>\n",
       "      <td>0.553563</td>\n",
       "      <td>0.074515</td>\n",
       "      <td>0.332993</td>\n",
       "      <td>0.365792</td>\n",
       "      <td>0.861309</td>\n",
       "      <td>0.899017</td>\n",
       "      <td>0.088600</td>\n",
       "    </tr>\n",
       "    <tr>\n",
       "      <th>3</th>\n",
       "      <td>0.092108</td>\n",
       "      <td>0.995017</td>\n",
       "      <td>0.014465</td>\n",
       "      <td>0.176371</td>\n",
       "      <td>0.241530</td>\n",
       "      <td>0.514724</td>\n",
       "      <td>0.562208</td>\n",
       "      <td>0.158963</td>\n",
       "      <td>0.073715</td>\n",
       "      <td>0.208463</td>\n",
       "    </tr>\n",
       "    <tr>\n",
       "      <th>4</th>\n",
       "      <td>0.325261</td>\n",
       "      <td>0.805968</td>\n",
       "      <td>0.957033</td>\n",
       "      <td>0.331665</td>\n",
       "      <td>0.307923</td>\n",
       "      <td>0.355315</td>\n",
       "      <td>0.501899</td>\n",
       "      <td>0.558449</td>\n",
       "      <td>0.885169</td>\n",
       "      <td>0.182754</td>\n",
       "    </tr>\n",
       "  </tbody>\n",
       "</table>\n",
       "</div>"
      ],
      "text/plain": [
       "       Col1      Col2      Col3      Col4      Col5      Col6      Col7  \\\n",
       "0  0.263995  0.764929  0.138424  0.935242  0.605867  0.518790  0.912225   \n",
       "1  0.546092  0.653975  0.065575  0.227772  0.845269  0.837066  0.272379   \n",
       "2  0.336714  0.538842  0.192801  0.553563  0.074515  0.332993  0.365792   \n",
       "3  0.092108  0.995017  0.014465  0.176371  0.241530  0.514724  0.562208   \n",
       "4  0.325261  0.805968  0.957033  0.331665  0.307923  0.355315  0.501899   \n",
       "\n",
       "       Col8      Col9     Col10  \n",
       "0  0.608234  0.723782  0.733591  \n",
       "1  0.331679  0.429297  0.367422  \n",
       "2  0.861309  0.899017  0.088600  \n",
       "3  0.158963  0.073715  0.208463  \n",
       "4  0.558449  0.885169  0.182754  "
      ]
     },
     "metadata": {},
     "output_type": "display_data"
    }
   ],
   "source": [
    "from pycaret.datasets import get_data\n",
    "data = get_data('anomaly')"
   ]
  },
  {
   "cell_type": "markdown",
   "metadata": {},
   "source": [
    "## Functional API"
   ]
  },
  {
   "cell_type": "code",
   "execution_count": 2,
   "metadata": {},
   "outputs": [
    {
     "data": {
      "text/html": [
       "<style type=\"text/css\">\n",
       "#T_018da_row4_col1 {\n",
       "  background-color: lightgreen;\n",
       "}\n",
       "</style>\n",
       "<table id=\"T_018da\">\n",
       "  <thead>\n",
       "    <tr>\n",
       "      <th class=\"blank level0\" >&nbsp;</th>\n",
       "      <th id=\"T_018da_level0_col0\" class=\"col_heading level0 col0\" >Description</th>\n",
       "      <th id=\"T_018da_level0_col1\" class=\"col_heading level0 col1\" >Value</th>\n",
       "    </tr>\n",
       "  </thead>\n",
       "  <tbody>\n",
       "    <tr>\n",
       "      <th id=\"T_018da_level0_row0\" class=\"row_heading level0 row0\" >0</th>\n",
       "      <td id=\"T_018da_row0_col0\" class=\"data row0 col0\" >Session id</td>\n",
       "      <td id=\"T_018da_row0_col1\" class=\"data row0 col1\" >123</td>\n",
       "    </tr>\n",
       "    <tr>\n",
       "      <th id=\"T_018da_level0_row1\" class=\"row_heading level0 row1\" >1</th>\n",
       "      <td id=\"T_018da_row1_col0\" class=\"data row1 col0\" >Original data shape</td>\n",
       "      <td id=\"T_018da_row1_col1\" class=\"data row1 col1\" >(1000, 10)</td>\n",
       "    </tr>\n",
       "    <tr>\n",
       "      <th id=\"T_018da_level0_row2\" class=\"row_heading level0 row2\" >2</th>\n",
       "      <td id=\"T_018da_row2_col0\" class=\"data row2 col0\" >Transformed data shape</td>\n",
       "      <td id=\"T_018da_row2_col1\" class=\"data row2 col1\" >(1000, 10)</td>\n",
       "    </tr>\n",
       "    <tr>\n",
       "      <th id=\"T_018da_level0_row3\" class=\"row_heading level0 row3\" >3</th>\n",
       "      <td id=\"T_018da_row3_col0\" class=\"data row3 col0\" >Numeric features</td>\n",
       "      <td id=\"T_018da_row3_col1\" class=\"data row3 col1\" >10</td>\n",
       "    </tr>\n",
       "    <tr>\n",
       "      <th id=\"T_018da_level0_row4\" class=\"row_heading level0 row4\" >4</th>\n",
       "      <td id=\"T_018da_row4_col0\" class=\"data row4 col0\" >Preprocess</td>\n",
       "      <td id=\"T_018da_row4_col1\" class=\"data row4 col1\" >True</td>\n",
       "    </tr>\n",
       "    <tr>\n",
       "      <th id=\"T_018da_level0_row5\" class=\"row_heading level0 row5\" >5</th>\n",
       "      <td id=\"T_018da_row5_col0\" class=\"data row5 col0\" >Imputation type</td>\n",
       "      <td id=\"T_018da_row5_col1\" class=\"data row5 col1\" >simple</td>\n",
       "    </tr>\n",
       "    <tr>\n",
       "      <th id=\"T_018da_level0_row6\" class=\"row_heading level0 row6\" >6</th>\n",
       "      <td id=\"T_018da_row6_col0\" class=\"data row6 col0\" >Numeric imputation</td>\n",
       "      <td id=\"T_018da_row6_col1\" class=\"data row6 col1\" >mean</td>\n",
       "    </tr>\n",
       "    <tr>\n",
       "      <th id=\"T_018da_level0_row7\" class=\"row_heading level0 row7\" >7</th>\n",
       "      <td id=\"T_018da_row7_col0\" class=\"data row7 col0\" >Categorical imputation</td>\n",
       "      <td id=\"T_018da_row7_col1\" class=\"data row7 col1\" >mode</td>\n",
       "    </tr>\n",
       "    <tr>\n",
       "      <th id=\"T_018da_level0_row8\" class=\"row_heading level0 row8\" >8</th>\n",
       "      <td id=\"T_018da_row8_col0\" class=\"data row8 col0\" >CPU Jobs</td>\n",
       "      <td id=\"T_018da_row8_col1\" class=\"data row8 col1\" >-1</td>\n",
       "    </tr>\n",
       "    <tr>\n",
       "      <th id=\"T_018da_level0_row9\" class=\"row_heading level0 row9\" >9</th>\n",
       "      <td id=\"T_018da_row9_col0\" class=\"data row9 col0\" >Use GPU</td>\n",
       "      <td id=\"T_018da_row9_col1\" class=\"data row9 col1\" >False</td>\n",
       "    </tr>\n",
       "    <tr>\n",
       "      <th id=\"T_018da_level0_row10\" class=\"row_heading level0 row10\" >10</th>\n",
       "      <td id=\"T_018da_row10_col0\" class=\"data row10 col0\" >Log Experiment</td>\n",
       "      <td id=\"T_018da_row10_col1\" class=\"data row10 col1\" >False</td>\n",
       "    </tr>\n",
       "    <tr>\n",
       "      <th id=\"T_018da_level0_row11\" class=\"row_heading level0 row11\" >11</th>\n",
       "      <td id=\"T_018da_row11_col0\" class=\"data row11 col0\" >Experiment Name</td>\n",
       "      <td id=\"T_018da_row11_col1\" class=\"data row11 col1\" >anomaly-default-name</td>\n",
       "    </tr>\n",
       "    <tr>\n",
       "      <th id=\"T_018da_level0_row12\" class=\"row_heading level0 row12\" >12</th>\n",
       "      <td id=\"T_018da_row12_col0\" class=\"data row12 col0\" >USI</td>\n",
       "      <td id=\"T_018da_row12_col1\" class=\"data row12 col1\" >79a9</td>\n",
       "    </tr>\n",
       "  </tbody>\n",
       "</table>\n"
      ],
      "text/plain": [
       "<pandas.io.formats.style.Styler at 0x30c2d63e0>"
      ]
     },
     "metadata": {},
     "output_type": "display_data"
    }
   ],
   "source": [
    "from pycaret.anomaly import *\n",
    "s = setup(data, session_id = 123)"
   ]
  },
  {
   "cell_type": "markdown",
   "metadata": {},
   "source": [
    "## Create Model\n"
   ]
  },
  {
   "cell_type": "code",
   "execution_count": 3,
   "metadata": {},
   "outputs": [
    {
     "data": {
      "text/html": [],
      "text/plain": [
       "<IPython.core.display.HTML object>"
      ]
     },
     "metadata": {},
     "output_type": "display_data"
    },
    {
     "data": {
      "text/html": [],
      "text/plain": [
       "<IPython.core.display.HTML object>"
      ]
     },
     "metadata": {},
     "output_type": "display_data"
    },
    {
     "data": {
      "text/html": [],
      "text/plain": [
       "<IPython.core.display.HTML object>"
      ]
     },
     "metadata": {},
     "output_type": "display_data"
    },
    {
     "name": "stdout",
     "output_type": "stream",
     "text": [
      "IForest(behaviour='new', bootstrap=False, contamination=0.05,\n",
      "    max_features=1.0, max_samples='auto', n_estimators=100, n_jobs=-1,\n",
      "    random_state=123, verbose=0)\n"
     ]
    }
   ],
   "source": [
    "# functional API\n",
    "iforest = create_model('iforest')\n",
    "print(iforest)"
   ]
  },
  {
   "cell_type": "markdown",
   "metadata": {},
   "source": [
    "### 列出 PyCaret 支援的異常偵測演算法："
   ]
  },
  {
   "cell_type": "code",
   "execution_count": 4,
   "metadata": {},
   "outputs": [
    {
     "data": {
      "text/html": [
       "<div>\n",
       "<style scoped>\n",
       "    .dataframe tbody tr th:only-of-type {\n",
       "        vertical-align: middle;\n",
       "    }\n",
       "\n",
       "    .dataframe tbody tr th {\n",
       "        vertical-align: top;\n",
       "    }\n",
       "\n",
       "    .dataframe thead th {\n",
       "        text-align: right;\n",
       "    }\n",
       "</style>\n",
       "<table border=\"1\" class=\"dataframe\">\n",
       "  <thead>\n",
       "    <tr style=\"text-align: right;\">\n",
       "      <th></th>\n",
       "      <th>Name</th>\n",
       "      <th>Reference</th>\n",
       "    </tr>\n",
       "    <tr>\n",
       "      <th>ID</th>\n",
       "      <th></th>\n",
       "      <th></th>\n",
       "    </tr>\n",
       "  </thead>\n",
       "  <tbody>\n",
       "    <tr>\n",
       "      <th>abod</th>\n",
       "      <td>Angle-base Outlier Detection</td>\n",
       "      <td>pyod.models.abod.ABOD</td>\n",
       "    </tr>\n",
       "    <tr>\n",
       "      <th>cluster</th>\n",
       "      <td>Clustering-Based Local Outlier</td>\n",
       "      <td>pycaret.internal.patches.pyod.CBLOFForceToDouble</td>\n",
       "    </tr>\n",
       "    <tr>\n",
       "      <th>cof</th>\n",
       "      <td>Connectivity-Based Local Outlier</td>\n",
       "      <td>pyod.models.cof.COF</td>\n",
       "    </tr>\n",
       "    <tr>\n",
       "      <th>iforest</th>\n",
       "      <td>Isolation Forest</td>\n",
       "      <td>pyod.models.iforest.IForest</td>\n",
       "    </tr>\n",
       "    <tr>\n",
       "      <th>histogram</th>\n",
       "      <td>Histogram-based Outlier Detection</td>\n",
       "      <td>pyod.models.hbos.HBOS</td>\n",
       "    </tr>\n",
       "    <tr>\n",
       "      <th>knn</th>\n",
       "      <td>K-Nearest Neighbors Detector</td>\n",
       "      <td>pyod.models.knn.KNN</td>\n",
       "    </tr>\n",
       "    <tr>\n",
       "      <th>lof</th>\n",
       "      <td>Local Outlier Factor</td>\n",
       "      <td>pyod.models.lof.LOF</td>\n",
       "    </tr>\n",
       "    <tr>\n",
       "      <th>svm</th>\n",
       "      <td>One-class SVM detector</td>\n",
       "      <td>pyod.models.ocsvm.OCSVM</td>\n",
       "    </tr>\n",
       "    <tr>\n",
       "      <th>pca</th>\n",
       "      <td>Principal Component Analysis</td>\n",
       "      <td>pyod.models.pca.PCA</td>\n",
       "    </tr>\n",
       "    <tr>\n",
       "      <th>mcd</th>\n",
       "      <td>Minimum Covariance Determinant</td>\n",
       "      <td>pyod.models.mcd.MCD</td>\n",
       "    </tr>\n",
       "    <tr>\n",
       "      <th>sod</th>\n",
       "      <td>Subspace Outlier Detection</td>\n",
       "      <td>pyod.models.sod.SOD</td>\n",
       "    </tr>\n",
       "    <tr>\n",
       "      <th>sos</th>\n",
       "      <td>Stochastic Outlier Selection</td>\n",
       "      <td>pyod.models.sos.SOS</td>\n",
       "    </tr>\n",
       "  </tbody>\n",
       "</table>\n",
       "</div>"
      ],
      "text/plain": [
       "                                        Name  \\\n",
       "ID                                             \n",
       "abod            Angle-base Outlier Detection   \n",
       "cluster       Clustering-Based Local Outlier   \n",
       "cof         Connectivity-Based Local Outlier   \n",
       "iforest                     Isolation Forest   \n",
       "histogram  Histogram-based Outlier Detection   \n",
       "knn             K-Nearest Neighbors Detector   \n",
       "lof                     Local Outlier Factor   \n",
       "svm                   One-class SVM detector   \n",
       "pca             Principal Component Analysis   \n",
       "mcd           Minimum Covariance Determinant   \n",
       "sod               Subspace Outlier Detection   \n",
       "sos             Stochastic Outlier Selection   \n",
       "\n",
       "                                                  Reference  \n",
       "ID                                                           \n",
       "abod                                  pyod.models.abod.ABOD  \n",
       "cluster    pycaret.internal.patches.pyod.CBLOFForceToDouble  \n",
       "cof                                     pyod.models.cof.COF  \n",
       "iforest                         pyod.models.iforest.IForest  \n",
       "histogram                             pyod.models.hbos.HBOS  \n",
       "knn                                     pyod.models.knn.KNN  \n",
       "lof                                     pyod.models.lof.LOF  \n",
       "svm                                 pyod.models.ocsvm.OCSVM  \n",
       "pca                                     pyod.models.pca.PCA  \n",
       "mcd                                     pyod.models.mcd.MCD  \n",
       "sod                                     pyod.models.sod.SOD  \n",
       "sos                                     pyod.models.sos.SOS  "
      ]
     },
     "execution_count": 4,
     "metadata": {},
     "output_type": "execute_result"
    }
   ],
   "source": [
    "# functional API\n",
    "models()"
   ]
  },
  {
   "cell_type": "markdown",
   "metadata": {},
   "source": [
    "### Analyze Model"
   ]
  },
  {
   "cell_type": "code",
   "execution_count": 5,
   "metadata": {},
   "outputs": [
    {
     "data": {
      "text/html": [],
      "text/plain": [
       "<IPython.core.display.HTML object>"
      ]
     },
     "metadata": {},
     "output_type": "display_data"
    },
    {
     "data": {
      "application/vnd.plotly.v1+json": {
       "config": {
        "plotlyServerURL": "https://plot.ly"
       },
       "data": [
        {
         "customdata": [
          [
           0.26399535
          ],
          [
           0.54609233
          ],
          [
           0.33671412
          ],
          [
           0.09210783
          ],
          [
           0.32526118
          ],
          [
           0.21246485
          ],
          [
           0.25856572
          ],
          [
           0.86923677
          ],
          [
           0.19707796
          ],
          [
           0.29298452
          ],
          [
           0.8217832
          ],
          [
           0.79662293
          ],
          [
           0.045577012
          ],
          [
           0.61366034
          ],
          [
           0.95074457
          ],
          [
           0.33634633
          ],
          [
           0.034440666
          ],
          [
           0.74154425
          ],
          [
           0.18443266
          ],
          [
           0.66451496
          ],
          [
           0.16282485
          ],
          [
           0.72983843
          ],
          [
           0.62837386
          ],
          [
           0.05788366
          ],
          [
           0.44553483
          ],
          [
           0.80183697
          ],
          [
           0.27709612
          ],
          [
           0.22863401
          ],
          [
           0.8348607
          ],
          [
           0.6697665
          ],
          [
           0.5325273
          ],
          [
           0.17045908
          ],
          [
           0.5102885
          ],
          [
           0.977562
          ],
          [
           0.24977599
          ],
          [
           0.9755007
          ],
          [
           0.6137017
          ],
          [
           0.16742036
          ],
          [
           0.5374725
          ],
          [
           0.37989914
          ],
          [
           0.6338973
          ],
          [
           0.6339604
          ],
          [
           0.5499747
          ],
          [
           0.17817299
          ],
          [
           0.85563815
          ],
          [
           0.3217967
          ],
          [
           0.8174905
          ],
          [
           0.25487942
          ],
          [
           0.3441405
          ],
          [
           0.8061457
          ],
          [
           0.27708167
          ],
          [
           0.5443285
          ],
          [
           0.07708393
          ],
          [
           0.27308145
          ],
          [
           0.39087734
          ],
          [
           0.3496214
          ],
          [
           0.21454975
          ],
          [
           0.20607522
          ],
          [
           0.86462
          ],
          [
           0.9817088
          ],
          [
           0.33482966
          ],
          [
           0.6483871
          ],
          [
           0.09364356
          ],
          [
           0.8378027
          ],
          [
           0.76034397
          ],
          [
           0.2914042
          ],
          [
           0.3413454
          ],
          [
           0.7611125
          ],
          [
           0.5418998
          ],
          [
           0.6841766
          ],
          [
           0.9835356
          ],
          [
           0.52081245
          ],
          [
           0.32822773
          ],
          [
           0.09715794
          ],
          [
           0.8760886
          ],
          [
           0.8702145
          ],
          [
           0.656087
          ],
          [
           0.3067915
          ],
          [
           0.48126733
          ],
          [
           0.25955918
          ],
          [
           0.32612365
          ],
          [
           0.93056804
          ],
          [
           0.6583894
          ],
          [
           0.6899923
          ],
          [
           0.31578112
          ],
          [
           0.5669051
          ],
          [
           0.63752663
          ],
          [
           0.6875407
          ],
          [
           0.3243006
          ],
          [
           0.5927049
          ],
          [
           0.74025315
          ],
          [
           0.5940329
          ],
          [
           0.59645295
          ],
          [
           0.2776808
          ],
          [
           0.25832966
          ],
          [
           0.14246087
          ],
          [
           0.43553346
          ],
          [
           0.70249903
          ],
          [
           0.58897537
          ],
          [
           0.6533044
          ],
          [
           0.3369685
          ],
          [
           0.6312447
          ],
          [
           0.7353008
          ],
          [
           0.050390366
          ],
          [
           0.06426492
          ],
          [
           0.6653595
          ],
          [
           0.91783524
          ],
          [
           0.4465101
          ],
          [
           0.6619382
          ],
          [
           0.43935984
          ],
          [
           0.6875724
          ],
          [
           0.36346224
          ],
          [
           0.6542622
          ],
          [
           0.57855356
          ],
          [
           0.065927945
          ],
          [
           0.55014855
          ],
          [
           0.13918282
          ],
          [
           0.08000463
          ],
          [
           0.27822837
          ],
          [
           0.5601243
          ],
          [
           0.53639865
          ],
          [
           0.4265319
          ],
          [
           0.78910977
          ],
          [
           0.7429005
          ],
          [
           0.90169257
          ],
          [
           0.6503374
          ],
          [
           0.11405731
          ],
          [
           0.26081258
          ],
          [
           0.43991232
          ],
          [
           0.9644093
          ],
          [
           0.18440141
          ],
          [
           0.34514543
          ],
          [
           0.17589459
          ],
          [
           0.31251445
          ],
          [
           0.6741319
          ],
          [
           0.32825044
          ],
          [
           0.5982311
          ],
          [
           0.09259882
          ],
          [
           0.49791652
          ],
          [
           0.41977653
          ],
          [
           0.3121767
          ],
          [
           0.9378571
          ],
          [
           0.049030963
          ],
          [
           0.47610453
          ],
          [
           0.44739753
          ],
          [
           0.29580605
          ],
          [
           0.737364
          ],
          [
           0.6258963
          ],
          [
           0.40881342
          ],
          [
           0.43751115
          ],
          [
           0.69135135
          ],
          [
           0.9355553
          ],
          [
           0.43784666
          ],
          [
           0.07221772
          ],
          [
           0.67636067
          ],
          [
           0.468884
          ],
          [
           0.5438206
          ],
          [
           0.65552264
          ],
          [
           0.69352895
          ],
          [
           0.108878314
          ],
          [
           0.28546375
          ],
          [
           0
          ],
          [
           0.7064955
          ],
          [
           0.27353063
          ],
          [
           0.29232028
          ],
          [
           0.6739843
          ],
          [
           0.12612183
          ],
          [
           0.9467075
          ],
          [
           0.9363389
          ],
          [
           0.85375535
          ],
          [
           0.7060714
          ],
          [
           0.6936822
          ],
          [
           0.5085279
          ],
          [
           0.34717038
          ],
          [
           0.70415425
          ],
          [
           0.6587301
          ],
          [
           0.15584156
          ],
          [
           0.31108543
          ],
          [
           0.28113535
          ],
          [
           0.0945878
          ],
          [
           0.683261
          ],
          [
           0.90772927
          ],
          [
           0.29151267
          ],
          [
           0.7527345
          ],
          [
           0.93482965
          ],
          [
           0.07141396
          ],
          [
           0.5948963
          ],
          [
           0.40467203
          ],
          [
           0.1383762
          ],
          [
           0.7473385
          ],
          [
           0.5308825
          ],
          [
           0.2826496
          ],
          [
           0.69933575
          ],
          [
           0.05611125
          ],
          [
           0.855235
          ],
          [
           0.07789513
          ],
          [
           0.8916496
          ],
          [
           0.3867423
          ],
          [
           0.27113158
          ],
          [
           0.95888895
          ],
          [
           0.08512087
          ],
          [
           0.52690226
          ],
          [
           0.066577785
          ],
          [
           0.8415067
          ],
          [
           0.2553421
          ],
          [
           0.060545772
          ],
          [
           0.07338587
          ],
          [
           0.18749373
          ],
          [
           0.8583657
          ],
          [
           0.09064035
          ],
          [
           0.7097252
          ],
          [
           0.6313006
          ],
          [
           0.24750447
          ],
          [
           0.8228436
          ],
          [
           0.37347677
          ],
          [
           0.6255386
          ],
          [
           0.2929517
          ],
          [
           0.29973033
          ],
          [
           0.25121406
          ],
          [
           0.34448054
          ],
          [
           0.29306477
          ],
          [
           0.7628032
          ],
          [
           0.7384708
          ],
          [
           0.67488325
          ],
          [
           0.7191516
          ],
          [
           0.13098022
          ],
          [
           0.51132804
          ],
          [
           0.04492903
          ],
          [
           0.56091446
          ],
          [
           0.74404067
          ],
          [
           0.26696163
          ],
          [
           0.64423186
          ],
          [
           0.038113352
          ],
          [
           0.0571553
          ],
          [
           0.34139246
          ],
          [
           0.72046363
          ],
          [
           0.40287822
          ],
          [
           0.63514894
          ],
          [
           0.32072946
          ],
          [
           0.091209695
          ],
          [
           0.23414609
          ],
          [
           0.8902211
          ],
          [
           0.6021709
          ],
          [
           0.63365203
          ],
          [
           0.80624086
          ],
          [
           0.7397312
          ],
          [
           0.46523127
          ],
          [
           0.7321109
          ],
          [
           0.3738743
          ],
          [
           0.5015879
          ],
          [
           0.115383156
          ],
          [
           0.7319466
          ],
          [
           0.41829872
          ],
          [
           0.062259592
          ],
          [
           0.3914964
          ],
          [
           0.3598493
          ],
          [
           0.24523562
          ],
          [
           0.6100283
          ],
          [
           0.43540362
          ],
          [
           0.43430966
          ],
          [
           0.52376336
          ],
          [
           0.17118786
          ],
          [
           0.1877343
          ],
          [
           0.94501466
          ],
          [
           0.027851097
          ],
          [
           0.68445706
          ],
          [
           0.17801453
          ],
          [
           0.6434279
          ],
          [
           0.59588355
          ],
          [
           0.3723617
          ],
          [
           0.58610356
          ],
          [
           0.27165884
          ],
          [
           0.5995111
          ],
          [
           0.46836308
          ],
          [
           0.31451556
          ],
          [
           0.21893726
          ],
          [
           0.25471658
          ],
          [
           0.25612816
          ],
          [
           0.60225976
          ],
          [
           0.13438107
          ],
          [
           0.5138874
          ],
          [
           0.62424165
          ],
          [
           0.16025186
          ],
          [
           0.5807081
          ],
          [
           0.27054048
          ],
          [
           0.83291996
          ],
          [
           0.93032134
          ],
          [
           0.7191579
          ],
          [
           0.88672006
          ],
          [
           0.09879228
          ],
          [
           0.7871743
          ],
          [
           0.3655924
          ],
          [
           0.7195762
          ],
          [
           0.8058956
          ],
          [
           0.75557834
          ],
          [
           0.5260059
          ],
          [
           0.68880427
          ],
          [
           0.2211153
          ],
          [
           0.73936945
          ],
          [
           0.40844023
          ],
          [
           0.34892654
          ],
          [
           0.43371376
          ],
          [
           0.5964966
          ],
          [
           0.6942953
          ],
          [
           0.709031
          ],
          [
           0.867653
          ],
          [
           0.89332545
          ],
          [
           0.7460209
          ],
          [
           0.5382844
          ],
          [
           0.8922193
          ],
          [
           0.9351758
          ],
          [
           0.2605277
          ],
          [
           0.95678043
          ],
          [
           0.20493248
          ],
          [
           0.68773335
          ],
          [
           0.32906362
          ],
          [
           0.6321498
          ],
          [
           0.4637445
          ],
          [
           0.69885963
          ],
          [
           0.38544658
          ],
          [
           0.47997537
          ],
          [
           0.7322791
          ],
          [
           0.3813543
          ],
          [
           0.459326
          ],
          [
           0.25740144
          ],
          [
           0.6650148
          ],
          [
           0.103399545
          ],
          [
           0.42528442
          ],
          [
           0.94352907
          ],
          [
           0.5947502
          ],
          [
           0.5437768
          ],
          [
           0.18203989
          ],
          [
           0.23584208
          ],
          [
           0.58598447
          ],
          [
           0.7620132
          ],
          [
           0.6849829
          ],
          [
           0.6769369
          ],
          [
           0.29018497
          ],
          [
           0.48106822
          ],
          [
           0.49276602
          ],
          [
           0.22185624
          ],
          [
           0.053875998
          ],
          [
           0.08275115
          ],
          [
           0.38536623
          ],
          [
           0.70251393
          ],
          [
           0.9155316
          ],
          [
           0.082087435
          ],
          [
           0.25128037
          ],
          [
           0.41672182
          ],
          [
           0.27703267
          ],
          [
           0.5795398
          ],
          [
           0.5693635
          ],
          [
           0.13339971
          ],
          [
           0.26504546
          ],
          [
           0.9365719
          ],
          [
           0.25261855
          ],
          [
           0.054033082
          ],
          [
           0.8024814
          ],
          [
           0.5281977
          ],
          [
           0.9515026
          ],
          [
           0.57212114
          ],
          [
           0.7529382
          ],
          [
           0.14385754
          ],
          [
           0.5134846
          ],
          [
           0.3133224
          ],
          [
           0.68779737
          ],
          [
           0.37705985
          ],
          [
           0.34822613
          ],
          [
           0.6776328
          ],
          [
           0.24138752
          ],
          [
           0.8506502
          ],
          [
           0.2203481
          ],
          [
           0.47644547
          ],
          [
           0.690324
          ],
          [
           0.36469594
          ],
          [
           0.6492492
          ],
          [
           0.9437019
          ],
          [
           0.529646
          ],
          [
           0.299097
          ],
          [
           0.96696246
          ],
          [
           0.27200523
          ],
          [
           0.31416145
          ],
          [
           0.752021
          ],
          [
           0.22188245
          ],
          [
           0.7203327
          ],
          [
           0.37920478
          ],
          [
           0.60168654
          ],
          [
           0.58293265
          ],
          [
           0.95080984
          ],
          [
           0.5883014
          ],
          [
           0.8808872
          ],
          [
           0.4678577
          ],
          [
           0.8799022
          ],
          [
           0.619844
          ],
          [
           0.35900256
          ],
          [
           0.29151127
          ],
          [
           0.6941571
          ],
          [
           0.72796035
          ],
          [
           0.6177039
          ],
          [
           0.39581257
          ],
          [
           0.5831728
          ],
          [
           0.7103324
          ],
          [
           0.2537537
          ],
          [
           0.04941223
          ],
          [
           0.7283787
          ],
          [
           0.4324329
          ],
          [
           0.58612347
          ],
          [
           0.052342374
          ],
          [
           0.053483903
          ],
          [
           0.5187294
          ],
          [
           0.9330402
          ],
          [
           0.7035543
          ],
          [
           0.2689899
          ],
          [
           0.73300695
          ],
          [
           0.44435248
          ],
          [
           0.58339465
          ],
          [
           0.87117267
          ],
          [
           0.42876709
          ],
          [
           0.30046085
          ],
          [
           0.95332944
          ],
          [
           0.60644394
          ],
          [
           0.9098681
          ],
          [
           0.71489644
          ],
          [
           0.4973495
          ],
          [
           0.8530975
          ],
          [
           0.72180414
          ],
          [
           0.30346733
          ],
          [
           0.6644851
          ],
          [
           0.27978063
          ],
          [
           0.5694817
          ],
          [
           0.6286289
          ],
          [
           0.088368125
          ],
          [
           0.7335673
          ],
          [
           0.5374368
          ],
          [
           0.6385937
          ],
          [
           0.95472693
          ],
          [
           0.6322023
          ],
          [
           0.64213467
          ],
          [
           0.7446531
          ],
          [
           0.115714006
          ],
          [
           0.48625007
          ],
          [
           0.44035614
          ],
          [
           0.08272289
          ],
          [
           0.511591
          ],
          [
           0.39462754
          ],
          [
           0.224394
          ],
          [
           0.62692755
          ],
          [
           0.29025406
          ],
          [
           0.77900803
          ],
          [
           0.8661058
          ],
          [
           0.87332606
          ],
          [
           0.49548915
          ],
          [
           0.5942977
          ],
          [
           0.91820157
          ],
          [
           0.57704276
          ],
          [
           0.01946767
          ],
          [
           0.6702983
          ],
          [
           0.54659534
          ],
          [
           0.59166515
          ],
          [
           0.4215582
          ],
          [
           0.68560857
          ],
          [
           0.34030303
          ],
          [
           0.67562675
          ],
          [
           0.31906736
          ],
          [
           0.38849968
          ],
          [
           0.7069496
          ],
          [
           0.5594095
          ],
          [
           0.6876635
          ],
          [
           0.70880455
          ],
          [
           0.6818881
          ],
          [
           0.42253512
          ],
          [
           0.3200046
          ],
          [
           0.6582814
          ],
          [
           0.63415486
          ],
          [
           0.777332
          ],
          [
           0.8126772
          ],
          [
           0.0742808
          ],
          [
           0.39600217
          ],
          [
           0.054933913
          ],
          [
           0.82505894
          ],
          [
           0.382642
          ],
          [
           0.8687298
          ],
          [
           0.58804333
          ],
          [
           0.89155155
          ],
          [
           0.10920046
          ],
          [
           0.6476828
          ],
          [
           0.7243425
          ],
          [
           0.07016304
          ],
          [
           0.28088206
          ],
          [
           0.03911326
          ],
          [
           0.5796416
          ],
          [
           0.6390009
          ],
          [
           0.2817459
          ],
          [
           0.6478577
          ],
          [
           0.6479058
          ],
          [
           0.87522626
          ],
          [
           0.5676033
          ],
          [
           0.2629406
          ],
          [
           0.26802605
          ],
          [
           0.40519133
          ],
          [
           0.47996545
          ],
          [
           0.33552402
          ],
          [
           0.77716535
          ],
          [
           0.42548797
          ],
          [
           0.23798612
          ],
          [
           0.14252298
          ],
          [
           0.72417647
          ],
          [
           0.23469894
          ],
          [
           0.07818228
          ],
          [
           0.8559902
          ],
          [
           0.27025175
          ],
          [
           0.43551785
          ],
          [
           0.7626975
          ],
          [
           0.46448725
          ],
          [
           0.39611268
          ],
          [
           0.37638092
          ],
          [
           0.29459468
          ],
          [
           0.6944921
          ],
          [
           0.6227679
          ],
          [
           0.84755975
          ],
          [
           0.30146307
          ],
          [
           0.9129378
          ],
          [
           0.50001717
          ],
          [
           0.90258795
          ],
          [
           0.30451795
          ],
          [
           0.29916567
          ],
          [
           0.09201409
          ],
          [
           0.4885489
          ],
          [
           0.66466445
          ],
          [
           0.26534954
          ],
          [
           0.723657
          ],
          [
           0.14926238
          ],
          [
           0.04577339
          ],
          [
           0.6966106
          ],
          [
           0.42181486
          ],
          [
           0.7338458
          ],
          [
           0.41879538
          ],
          [
           0.6774435
          ],
          [
           0.2612836
          ],
          [
           0.26852778
          ],
          [
           0.54432225
          ],
          [
           0.43163204
          ],
          [
           0.9810181
          ],
          [
           0.21498072
          ],
          [
           0.39473
          ],
          [
           0.12222494
          ],
          [
           0.29749689
          ],
          [
           0.37490442
          ],
          [
           0.6869877
          ],
          [
           0.3885492
          ],
          [
           0.039296072
          ],
          [
           0.73553425
          ],
          [
           0.3792949
          ],
          [
           0.7321234
          ],
          [
           0.33922145
          ],
          [
           0.6594506
          ],
          [
           0.054838642
          ],
          [
           0.6401121
          ],
          [
           0.3071417
          ],
          [
           0.3966119
          ],
          [
           0.42043915
          ],
          [
           0.24171497
          ],
          [
           0.06589315
          ],
          [
           0.9105219
          ],
          [
           0.6971631
          ],
          [
           0.072559856
          ],
          [
           0.81825095
          ],
          [
           0.3118888
          ],
          [
           0.9616446
          ],
          [
           0.81632555
          ],
          [
           0.14647302
          ],
          [
           0.5487539
          ],
          [
           0.9461581
          ],
          [
           0.29399273
          ],
          [
           0.33147964
          ],
          [
           0.90622
          ],
          [
           0.5255404
          ],
          [
           0.83301413
          ],
          [
           0.5148498
          ],
          [
           0.57460904
          ],
          [
           0.46871185
          ],
          [
           0.71002775
          ],
          [
           0.64597327
          ],
          [
           0.22979441
          ],
          [
           0.5517834
          ],
          [
           0.05582299
          ],
          [
           0.33175093
          ],
          [
           0.7155202
          ],
          [
           0.58392435
          ],
          [
           0.3069577
          ],
          [
           0.7914782
          ],
          [
           0.16423663
          ],
          [
           0.06571122
          ],
          [
           0.94899315
          ],
          [
           0.08042383
          ],
          [
           0.052495427
          ],
          [
           0.5663461
          ],
          [
           0.3630266
          ],
          [
           0.60544217
          ],
          [
           0.6308506
          ],
          [
           0.065791234
          ],
          [
           0.28681707
          ],
          [
           0.68546283
          ],
          [
           0.2608537
          ],
          [
           0.6591224
          ],
          [
           0.44317392
          ],
          [
           0.602064
          ],
          [
           0.06036691
          ],
          [
           0.78190315
          ],
          [
           0.51457983
          ],
          [
           0.4838862
          ],
          [
           0.6002138
          ],
          [
           0.49736404
          ],
          [
           0.41114524
          ],
          [
           0.11699917
          ],
          [
           0.34189013
          ],
          [
           0.74695086
          ],
          [
           0.39629275
          ],
          [
           0.62214386
          ],
          [
           0.33527115
          ],
          [
           0.14025714
          ],
          [
           0.08162068
          ],
          [
           0.06983757
          ],
          [
           0.46894002
          ],
          [
           0.9908574
          ],
          [
           0.8966168
          ],
          [
           0.25531057
          ],
          [
           0.22464527
          ],
          [
           0.01991825
          ],
          [
           0.29648042
          ],
          [
           0.155459
          ],
          [
           0.57791674
          ],
          [
           0.95630306
          ],
          [
           0.8134644
          ],
          [
           0.5296758
          ],
          [
           0.28767136
          ],
          [
           0.48039135
          ],
          [
           0.2810448
          ],
          [
           0.63319653
          ],
          [
           0.09332538
          ],
          [
           0.284474
          ],
          [
           0.052223776
          ],
          [
           0.051129386
          ],
          [
           0.9674056
          ],
          [
           0.040045727
          ],
          [
           0.9085829
          ],
          [
           0.6621174
          ],
          [
           0.4247032
          ],
          [
           0.7220781
          ],
          [
           0.6661933
          ],
          [
           0.5096812
          ],
          [
           0.7513536
          ],
          [
           0.27907312
          ],
          [
           0.074927
          ],
          [
           0.91635954
          ],
          [
           0.31040326
          ],
          [
           0.71660405
          ],
          [
           0.4855871
          ],
          [
           0.3060752
          ],
          [
           0.4775582
          ],
          [
           0.71192396
          ],
          [
           0.066348635
          ],
          [
           0.27453935
          ],
          [
           0.31082252
          ],
          [
           0.47607312
          ],
          [
           0.18679556
          ],
          [
           0.26654208
          ],
          [
           0.07023114
          ],
          [
           0.26951927
          ],
          [
           0.8000047
          ],
          [
           0.27363366
          ],
          [
           0.14647919
          ],
          [
           0.37831897
          ],
          [
           0.37384906
          ],
          [
           0.24217084
          ],
          [
           0.2497965
          ],
          [
           0.06659119
          ],
          [
           0.3729568
          ],
          [
           0.5018123
          ],
          [
           0.31309775
          ],
          [
           0.8802022
          ],
          [
           0.5198189
          ],
          [
           0.36413875
          ],
          [
           0.4926829
          ],
          [
           0.28573266
          ],
          [
           0.89011496
          ],
          [
           0.31641957
          ],
          [
           0.26866353
          ],
          [
           0.77197593
          ],
          [
           0.968889
          ],
          [
           0.08033438
          ],
          [
           0.7368282
          ],
          [
           0.30055806
          ],
          [
           0.9179504
          ],
          [
           0.46581504
          ],
          [
           0.05403668
          ],
          [
           0.96315014
          ],
          [
           0.0896535
          ],
          [
           0.7076932
          ],
          [
           0.636416
          ],
          [
           0.5395211
          ],
          [
           0.11475716
          ],
          [
           0.3573124
          ],
          [
           0.67639834
          ],
          [
           0.4348284
          ],
          [
           0.032326385
          ],
          [
           0.7113656
          ],
          [
           0.18748651
          ],
          [
           0.052789655
          ],
          [
           0.5058636
          ],
          [
           0.9274319
          ],
          [
           0.68098426
          ],
          [
           0.8828222
          ],
          [
           0.49570546
          ],
          [
           0.5962404
          ],
          [
           0.3206107
          ],
          [
           0.3413685
          ],
          [
           0.1596818
          ],
          [
           0.31813368
          ],
          [
           0.83930105
          ],
          [
           0.06435925
          ],
          [
           0.47021663
          ],
          [
           0.77625227
          ],
          [
           0.6358434
          ],
          [
           0.62510544
          ],
          [
           0.52959067
          ],
          [
           0.98690015
          ],
          [
           0.078585684
          ],
          [
           0.23328426
          ],
          [
           0.36333096
          ],
          [
           0.716717
          ],
          [
           0.37588978
          ],
          [
           0.2233169
          ],
          [
           0.29934397
          ],
          [
           0.5385958
          ],
          [
           0.73029715
          ],
          [
           0.6603308
          ],
          [
           0.435296
          ],
          [
           0.3264943
          ],
          [
           0.8544027
          ],
          [
           0.57349384
          ],
          [
           0.75778615
          ],
          [
           0.7047432
          ],
          [
           0.2815756
          ],
          [
           0.6719682
          ],
          [
           0.313726
          ],
          [
           0.36433828
          ],
          [
           0.3682164
          ],
          [
           0.3862952
          ],
          [
           0.6559719
          ],
          [
           0.56602526
          ],
          [
           0.4249991
          ],
          [
           0.09011037
          ],
          [
           0.77235055
          ],
          [
           0.33104727
          ],
          [
           0.27371618
          ],
          [
           0.23877569
          ],
          [
           0.37307978
          ],
          [
           0.33118588
          ],
          [
           0.25613454
          ],
          [
           0.6783732
          ],
          [
           0.43463835
          ],
          [
           0.65466833
          ],
          [
           0.98668104
          ],
          [
           0.3715205
          ],
          [
           0.40835962
          ],
          [
           0.40932366
          ],
          [
           0.28341207
          ],
          [
           0.39524654
          ],
          [
           0.010984428
          ],
          [
           0.30601388
          ],
          [
           0.26619482
          ],
          [
           0.29931852
          ],
          [
           0.31829396
          ],
          [
           0.7428259
          ],
          [
           0.09766433
          ],
          [
           0.07966694
          ],
          [
           0.6132588
          ],
          [
           0.9944307
          ],
          [
           0.5688351
          ],
          [
           0.7080345
          ],
          [
           0.3705927
          ],
          [
           0.66986734
          ],
          [
           0.6512956
          ],
          [
           0.46253157
          ],
          [
           0.7196256
          ],
          [
           0.4537725
          ],
          [
           0.39486393
          ],
          [
           0.32397482
          ],
          [
           0.14645472
          ],
          [
           0.77906704
          ],
          [
           0.4018289
          ],
          [
           0.6014796
          ],
          [
           0.856423
          ],
          [
           0.56524295
          ],
          [
           0.3012251
          ],
          [
           0.28210816
          ],
          [
           0.594378
          ],
          [
           0.7053124
          ],
          [
           0.54086965
          ],
          [
           0.31924957
          ],
          [
           0.36176613
          ],
          [
           0.6250007
          ],
          [
           0.3162874
          ],
          [
           0.04723902
          ],
          [
           0.8011822
          ],
          [
           0.5084744
          ],
          [
           0.8178934
          ],
          [
           0.3992356
          ],
          [
           0.974052
          ],
          [
           0.7224153
          ],
          [
           0.039564762
          ],
          [
           0.90868413
          ],
          [
           0.47301012
          ],
          [
           0.71804965
          ],
          [
           0.76347905
          ],
          [
           0.64759654
          ],
          [
           0.89499736
          ],
          [
           0.2228259
          ],
          [
           0.35901225
          ],
          [
           0.9449102
          ],
          [
           0.29787782
          ],
          [
           0.172518
          ],
          [
           0.55658627
          ],
          [
           0.8764817
          ],
          [
           0.48667786
          ],
          [
           0.45949674
          ],
          [
           0.47412637
          ],
          [
           0.7010114
          ],
          [
           0.3375974
          ],
          [
           0.5375789
          ],
          [
           0.96699244
          ],
          [
           0.056849547
          ],
          [
           0.23324907
          ],
          [
           0.3800547
          ],
          [
           0.6029294
          ],
          [
           0.303848
          ],
          [
           0.17019455
          ],
          [
           0.97216856
          ],
          [
           0.33216894
          ],
          [
           0.6887287
          ],
          [
           0.1107734
          ],
          [
           0.27335206
          ],
          [
           0.5729397
          ],
          [
           0.49145707
          ],
          [
           0.28139
          ],
          [
           0.82169724
          ],
          [
           0.67497766
          ],
          [
           0.58513457
          ],
          [
           0.71059614
          ],
          [
           0.04048879
          ],
          [
           0.5680543
          ],
          [
           0.32175294
          ],
          [
           0.61185026
          ],
          [
           0.9260969
          ],
          [
           0.6183474
          ],
          [
           0.6676298
          ],
          [
           0.39773348
          ],
          [
           0.2908755
          ],
          [
           0.5943751
          ],
          [
           0.50825524
          ],
          [
           0.33857137
          ],
          [
           0.43230236
          ],
          [
           0.30222198
          ],
          [
           0.8761982
          ],
          [
           0.080204494
          ],
          [
           0.09233353
          ],
          [
           0.09365645
          ],
          [
           0.6084524
          ],
          [
           0.7326546
          ],
          [
           0.94415885
          ],
          [
           0.2674231
          ],
          [
           0.7311242
          ],
          [
           0.6613085
          ],
          [
           0.38776627
          ],
          [
           0.9625853
          ],
          [
           0.32206705
          ],
          [
           0.63408107
          ],
          [
           0.47534502
          ],
          [
           0.353559
          ],
          [
           0.8859363
          ],
          [
           0.8767981
          ],
          [
           0.22158106
          ],
          [
           0.39436245
          ],
          [
           0.80503565
          ],
          [
           0.45289847
          ],
          [
           0.59252053
          ],
          [
           0.7610264
          ],
          [
           0.24504903
          ],
          [
           0.37213936
          ],
          [
           0.68105483
          ],
          [
           0.74714315
          ],
          [
           0.92073953
          ],
          [
           0.09720795
          ],
          [
           0.699303
          ],
          [
           0.721647
          ],
          [
           0.5353561
          ],
          [
           0.7382938
          ],
          [
           0.70646757
          ],
          [
           0.6739506
          ],
          [
           0.7112123
          ],
          [
           0.30255872
          ],
          [
           0.080097854
          ],
          [
           0.70701087
          ],
          [
           0.51224864
          ],
          [
           0.6596275
          ],
          [
           0.6575597
          ],
          [
           0.10064561
          ],
          [
           0.9266536
          ],
          [
           0.89287937
          ],
          [
           0.8391575
          ],
          [
           0.89095974
          ],
          [
           0.55675447
          ],
          [
           0.96036196
          ],
          [
           0.6310379
          ],
          [
           0.029838065
          ],
          [
           0.27884334
          ],
          [
           0.9261577
          ],
          [
           0.55150425
          ],
          [
           0.48594236
          ],
          [
           0.4372347
          ],
          [
           0.25231802
          ],
          [
           0.515467
          ],
          [
           0.43725228
          ],
          [
           0.4937242
          ],
          [
           0.83324724
          ],
          [
           0.31752148
          ],
          [
           0.28623456
          ],
          [
           0.72683394
          ],
          [
           0.49566704
          ],
          [
           0.028645255
          ],
          [
           0.31967193
          ],
          [
           0.6743446
          ],
          [
           0.76603717
          ],
          [
           0.6545699
          ],
          [
           0.7565144
          ],
          [
           0.52825373
          ],
          [
           0.3897195
          ],
          [
           0.35508746
          ],
          [
           0.870152
          ],
          [
           0.7390833
          ],
          [
           0.30576184
          ],
          [
           0.4115877
          ],
          [
           0.06363309
          ],
          [
           0.7354094
          ],
          [
           0.6059167
          ],
          [
           0.5393956
          ],
          [
           0.5661835
          ],
          [
           0.6747952
          ],
          [
           0.070993364
          ],
          [
           0.1252641
          ],
          [
           0.27960148
          ],
          [
           0.9521744
          ],
          [
           0.23380676
          ],
          [
           0.43724743
          ],
          [
           0.9254231
          ],
          [
           0.43349862
          ],
          [
           0.525179
          ],
          [
           0.08843553
          ],
          [
           0.44767764
          ],
          [
           0.6470006
          ],
          [
           0.9036033
          ],
          [
           0.26579073
          ],
          [
           0.66419697
          ],
          [
           0.49812067
          ],
          [
           0.49018896
          ],
          [
           0.7470842
          ],
          [
           0.90678364
          ],
          [
           0.6787709
          ],
          [
           0.34859985
          ],
          [
           0.29483968
          ],
          [
           0.7056918
          ],
          [
           0.21191794
          ],
          [
           0.06320112
          ],
          [
           0.27669954
          ],
          [
           0.6724594
          ],
          [
           0.80820596
          ],
          [
           0.29653838
          ],
          [
           0.16012686
          ],
          [
           0.43938503
          ],
          [
           0.5559514
          ],
          [
           0.38624012
          ],
          [
           0.15868962
          ],
          [
           0.21449986
          ],
          [
           0.29957944
          ],
          [
           0.56916165
          ],
          [
           0.4886148
          ],
          [
           0.878295
          ],
          [
           0.6493809
          ],
          [
           0.46571335
          ],
          [
           0.16813774
          ],
          [
           0.87529546
          ],
          [
           0.84113234
          ],
          [
           0.33292082
          ],
          [
           0.5130479
          ],
          [
           0.30505508
          ],
          [
           0.812627
          ],
          [
           0.25096706
          ],
          [
           0.50243556
          ],
          [
           0.45799074
          ]
         ],
         "hovertemplate": "0=%{x}<br>1=%{y}<br>2=%{z}<br>Feature=%{customdata[0]}<br>Anomaly=%{marker.color}<extra></extra>",
         "legendgroup": "",
         "marker": {
          "color": [
           0,
           0,
           1,
           1,
           0,
           0,
           0,
           1,
           1,
           0,
           0,
           1,
           0,
           0,
           1,
           0,
           1,
           0,
           0,
           0,
           1,
           0,
           0,
           1,
           1,
           1,
           0,
           0,
           1,
           1,
           0,
           0,
           1,
           1,
           1,
           0,
           0,
           0,
           0,
           0,
           1,
           0,
           0,
           1,
           0,
           0,
           0,
           0,
           0,
           0,
           0,
           1,
           0,
           1,
           0,
           1,
           0,
           0,
           0,
           1,
           0,
           0,
           1,
           1,
           0,
           0,
           1,
           0,
           0,
           1,
           0,
           0,
           0,
           0,
           0,
           0,
           0,
           0,
           0,
           0,
           0,
           0,
           0,
           0,
           0,
           0,
           0,
           0,
           0,
           0,
           0,
           0,
           0,
           0,
           0,
           0,
           0,
           0,
           0,
           0,
           0,
           0,
           0,
           0,
           0,
           0,
           0,
           0,
           0,
           0,
           0,
           0,
           0,
           0,
           0,
           0,
           0,
           0,
           0,
           0,
           0,
           0,
           0,
           0,
           0,
           0,
           0,
           0,
           0,
           0,
           0,
           0,
           0,
           0,
           0,
           0,
           0,
           0,
           0,
           0,
           0,
           0,
           0,
           0,
           0,
           0,
           0,
           0,
           0,
           0,
           0,
           0,
           0,
           0,
           0,
           0,
           0,
           0,
           0,
           0,
           0,
           0,
           0,
           0,
           0,
           0,
           0,
           0,
           0,
           0,
           0,
           0,
           0,
           0,
           0,
           0,
           0,
           0,
           0,
           0,
           0,
           0,
           0,
           0,
           0,
           0,
           0,
           0,
           0,
           0,
           0,
           0,
           0,
           0,
           0,
           0,
           0,
           0,
           1,
           0,
           0,
           0,
           0,
           0,
           0,
           0,
           0,
           0,
           0,
           0,
           0,
           0,
           0,
           0,
           0,
           0,
           0,
           0,
           0,
           0,
           0,
           0,
           0,
           0,
           0,
           0,
           0,
           0,
           0,
           0,
           0,
           0,
           0,
           0,
           0,
           0,
           0,
           0,
           0,
           0,
           0,
           0,
           0,
           0,
           0,
           0,
           0,
           0,
           0,
           0,
           0,
           0,
           0,
           0,
           0,
           0,
           0,
           0,
           0,
           0,
           0,
           0,
           0,
           0,
           0,
           0,
           0,
           0,
           0,
           0,
           0,
           0,
           0,
           0,
           0,
           0,
           0,
           0,
           0,
           0,
           0,
           0,
           0,
           0,
           0,
           0,
           0,
           0,
           0,
           0,
           0,
           0,
           0,
           0,
           0,
           0,
           0,
           0,
           0,
           0,
           0,
           0,
           0,
           0,
           0,
           0,
           0,
           0,
           0,
           0,
           0,
           0,
           0,
           0,
           0,
           0,
           0,
           0,
           0,
           0,
           0,
           0,
           0,
           0,
           0,
           0,
           0,
           0,
           0,
           0,
           0,
           0,
           0,
           0,
           0,
           0,
           0,
           0,
           0,
           0,
           0,
           0,
           0,
           0,
           0,
           0,
           0,
           0,
           0,
           0,
           0,
           0,
           0,
           0,
           0,
           0,
           0,
           0,
           0,
           0,
           0,
           0,
           0,
           0,
           0,
           0,
           0,
           0,
           0,
           0,
           0,
           0,
           0,
           0,
           0,
           0,
           0,
           0,
           0,
           0,
           0,
           0,
           0,
           0,
           0,
           0,
           0,
           0,
           0,
           0,
           0,
           0,
           0,
           0,
           0,
           0,
           0,
           0,
           0,
           0,
           0,
           0,
           0,
           0,
           0,
           0,
           0,
           0,
           0,
           0,
           0,
           0,
           0,
           0,
           0,
           0,
           0,
           0,
           0,
           0,
           0,
           0,
           0,
           0,
           0,
           0,
           0,
           0,
           0,
           0,
           0,
           0,
           0,
           0,
           0,
           0,
           0,
           0,
           0,
           0,
           0,
           0,
           0,
           0,
           0,
           0,
           0,
           0,
           0,
           0,
           0,
           0,
           0,
           0,
           0,
           0,
           0,
           0,
           0,
           0,
           0,
           0,
           0,
           0,
           0,
           0,
           0,
           0,
           0,
           0,
           0,
           0,
           0,
           0,
           0,
           0,
           0,
           0,
           0,
           0,
           0,
           0,
           0,
           0,
           0,
           0,
           0,
           0,
           0,
           0,
           0,
           0,
           0,
           0,
           0,
           0,
           0,
           0,
           0,
           0,
           0,
           0,
           0,
           0,
           0,
           0,
           0,
           0,
           0,
           0,
           0,
           0,
           0,
           0,
           0,
           0,
           0,
           0,
           0,
           0,
           0,
           0,
           0,
           0,
           0,
           0,
           0,
           0,
           0,
           0,
           0,
           0,
           0,
           0,
           0,
           0,
           0,
           0,
           0,
           0,
           0,
           0,
           0,
           0,
           0,
           1,
           0,
           0,
           0,
           0,
           0,
           0,
           0,
           0,
           0,
           0,
           0,
           0,
           0,
           0,
           0,
           0,
           0,
           0,
           0,
           0,
           0,
           0,
           0,
           0,
           0,
           0,
           0,
           0,
           0,
           0,
           0,
           1,
           0,
           0,
           0,
           0,
           0,
           0,
           0,
           0,
           0,
           0,
           0,
           0,
           0,
           0,
           0,
           0,
           0,
           0,
           0,
           0,
           0,
           0,
           0,
           0,
           1,
           0,
           0,
           0,
           0,
           0,
           0,
           0,
           0,
           0,
           0,
           0,
           0,
           0,
           0,
           0,
           0,
           0,
           0,
           0,
           0,
           0,
           0,
           0,
           0,
           0,
           0,
           0,
           0,
           0,
           0,
           0,
           0,
           0,
           0,
           0,
           0,
           0,
           0,
           0,
           0,
           0,
           0,
           0,
           0,
           0,
           0,
           0,
           0,
           0,
           0,
           0,
           0,
           0,
           0,
           0,
           0,
           0,
           0,
           0,
           0,
           0,
           0,
           0,
           0,
           0,
           0,
           0,
           0,
           0,
           0,
           0,
           0,
           0,
           0,
           0,
           0,
           0,
           1,
           0,
           0,
           0,
           0,
           0,
           0,
           0,
           0,
           0,
           0,
           0,
           0,
           0,
           0,
           0,
           0,
           0,
           0,
           0,
           1,
           1,
           0,
           1,
           1,
           0,
           0,
           1,
           1,
           0,
           0,
           0,
           0,
           1,
           0,
           0,
           1,
           1,
           1,
           0,
           1,
           0,
           1,
           1,
           1,
           0,
           0,
           0,
           1,
           0,
           0,
           0,
           0,
           0,
           0,
           0,
           0,
           0,
           0,
           0,
           0,
           0,
           0,
           1,
           0,
           0,
           0,
           0,
           0,
           0,
           0,
           0,
           0,
           0,
           0,
           0,
           0,
           0,
           0,
           0,
           0,
           0,
           0,
           0,
           0,
           0,
           0,
           0,
           0,
           0,
           0,
           0,
           0,
           0,
           0,
           0,
           0,
           0,
           0,
           0,
           1,
           0,
           0,
           0,
           0,
           0,
           0,
           0,
           0,
           0,
           0,
           0,
           0,
           0,
           0,
           0,
           0,
           0,
           0,
           0,
           0,
           0,
           0,
           0,
           0,
           0,
           0,
           0,
           0,
           0,
           0,
           0,
           0,
           0,
           0,
           0,
           0,
           0,
           0,
           0,
           0,
           0,
           0,
           0,
           0,
           0,
           0,
           0,
           0,
           0,
           0,
           0,
           0,
           0,
           0,
           0,
           0,
           0,
           0,
           0,
           0,
           0,
           0,
           0,
           0,
           0,
           0,
           0,
           0,
           0,
           0,
           0,
           0,
           0,
           0,
           0,
           0,
           0,
           0,
           0,
           0,
           0,
           0,
           1,
           0,
           0,
           0,
           0,
           0,
           0,
           0,
           0,
           0,
           0,
           0,
           0,
           0,
           0,
           0,
           0,
           0,
           0,
           0,
           0,
           0,
           0,
           0,
           0,
           0,
           0,
           0,
           0,
           0,
           0,
           0,
           0,
           0,
           0,
           0,
           0,
           0,
           0,
           0,
           0,
           0,
           0,
           0,
           0,
           0,
           0,
           0,
           0,
           0,
           0,
           0,
           0,
           0,
           0,
           0,
           0,
           0,
           1,
           0,
           0,
           0,
           0,
           0,
           0,
           0,
           0,
           0,
           0,
           0,
           0,
           0,
           0,
           0,
           0,
           0,
           0,
           0,
           0,
           0,
           0,
           0,
           0,
           0,
           0,
           0,
           0,
           0,
           0,
           0,
           0,
           0,
           0,
           0,
           0,
           0,
           0,
           0,
           0,
           0,
           0,
           0,
           0,
           0,
           0,
           0,
           0,
           0,
           0,
           0,
           0,
           0,
           0,
           0,
           0,
           0,
           0,
           0,
           0,
           0,
           0,
           0,
           0,
           0,
           0,
           0,
           0,
           0,
           0,
           0,
           0,
           0,
           0,
           0,
           0,
           0,
           0
          ],
          "coloraxis": "coloraxis",
          "opacity": 0.7,
          "symbol": "circle"
         },
         "mode": "markers",
         "name": "",
         "scene": "scene",
         "showlegend": false,
         "type": "scatter3d",
         "x": [
          -1.3942465,
          1.4019163,
          5.6103325,
          12.845549,
          11.314184,
          8.42792,
          -2.7261636,
          19.259089,
          1.5162896,
          7.2527113,
          18.842703,
          13.30887,
          12.077043,
          5.531227,
          8.427411,
          17.435698,
          12.096837,
          -3.7157655,
          4.027994,
          12.0319195,
          7.653183,
          -4.1621866,
          6.825521,
          2.0256891,
          10.189022,
          -2.6412265,
          12.025704,
          -2.4520366,
          13.153035,
          15.931784,
          -0.20950527,
          3.4970396,
          2.5430288,
          8.708333,
          -5.784218,
          -3.7701342,
          2.359326,
          -2.7791824,
          -2.6212046,
          8.80038,
          -12.614791,
          12.481702,
          -9.881869,
          8.211121,
          11.061234,
          17.754982,
          10.712078,
          1.6652002,
          12.967749,
          -7.29195,
          10.460987,
          2.2316432,
          -7.426242,
          17.58385,
          10.161746,
          8.866931,
          8.450919,
          -5.597522,
          9.35382,
          6.342724,
          -2.6849701,
          -5.520142,
          17.64761,
          12.796104,
          -8.454181,
          10.683151,
          -9.280206,
          -3.954736,
          12.319094,
          11.980323,
          20.357094,
          16.424807,
          -3.4782984,
          14.948165,
          -13.65006,
          -7.3801956,
          12.3924885,
          15.972762,
          -15.693878,
          -11.988998,
          -11.328564,
          -8.522257,
          10.883515,
          -3.9675524,
          -1.7561303,
          2.297729,
          -5.794172,
          -5.9802027,
          -3.7447991,
          -5.940274,
          -5.9550896,
          16.984688,
          -9.729185,
          -4.393943,
          0.37716708,
          18.300318,
          -9.140785,
          0.9646217,
          -3.4041626,
          12.266868,
          -2.67041,
          -8.508394,
          0.64659566,
          -9.275785,
          19.14859,
          -10.505587,
          -6.321768,
          0.15605119,
          -13.361518,
          15.642401,
          -7.706254,
          -3.1226857,
          16.166565,
          -7.6276207,
          10.231465,
          -10.040569,
          -3.159738,
          -4.6071434,
          13.375875,
          -4.6943355,
          -10.733634,
          -3.1695666,
          1.5767136,
          -9.244291,
          -2.2311318,
          0.30185238,
          0.63878435,
          14.095751,
          -1.5296569,
          -0.50391424,
          -3.6951444,
          -8.913228,
          18.60866,
          0.08106421,
          -8.183813,
          -5.249212,
          9.504135,
          16.97299,
          0.83145535,
          -2.0786037,
          15.9350605,
          -6.852675,
          -8.793081,
          11.494634,
          -4.9119864,
          -11.390609,
          16.058786,
          -9.076967,
          1.2661394,
          -4.606767,
          -7.2510757,
          -9.985916,
          0.18382578,
          -9.605885,
          -3.7152307,
          -9.73524,
          -8.724701,
          -10.330158,
          -15.4274235,
          12.414862,
          -2.0152178,
          -6.053811,
          -12.053693,
          -15.307945,
          12.687275,
          -8.787471,
          15.944028,
          17.929445,
          9.010005,
          -4.065713,
          -7.212664,
          1.3540044,
          11.048191,
          8.570587,
          -0.29919368,
          -7.1235633,
          10.3770275,
          7.8077226,
          2.1526082,
          16.118559,
          -1.5352488,
          11.956102,
          3.651882,
          17.613085,
          17.679636,
          -3.801942,
          12.856219,
          -4.5969844,
          -9.523529,
          -9.486031,
          -9.198001,
          11.74612,
          17.834202,
          8.759888,
          -5.6119394,
          -1.3441689,
          -2.0241084,
          1.2454826,
          -1.6711388,
          -1.3745435,
          -2.4594116,
          -3.316784,
          1.7417299,
          11.729027,
          7.3489637,
          3.336474,
          -12.635091,
          -2.6057906,
          11.96395,
          1.3766959,
          -1.2012691,
          13.969665,
          15.671097,
          -8.968091,
          -2.902226,
          -3.1321678,
          0.9076446,
          16.409313,
          18.31218,
          -0.4491208,
          7.288178,
          -1.846124,
          11.694321,
          -14.182603,
          -5.699494,
          -11.971851,
          -10.029951,
          -8.945568,
          -8.951298,
          13.466031,
          -2.078498,
          -9.935618,
          16.076254,
          16.66077,
          -5.4967074,
          -1.9675881,
          -0.54021007,
          -9.114202,
          14.279209,
          7.111211,
          -2.7083104,
          0.72701615,
          8.173244,
          -4.0925317,
          17.027317,
          -6.276836,
          -8.571585,
          -14.644016,
          -10.305947,
          7.944289,
          -7.7090793,
          -1.2248499,
          15.86837,
          -5.989113,
          -11.030199,
          2.103149,
          -2.557911,
          -6.339047,
          13.218284,
          -4.7481775,
          7.0725393,
          -5.7307005,
          10.279455,
          -1.4181474,
          -8.2777815,
          -3.8166044,
          18.341595,
          -3.9640346,
          -13.132328,
          1.1006639,
          -0.83309644,
          2.0126235,
          -5.9549117,
          7.3564405,
          11.919833,
          -8.702085,
          16.5083,
          11.857173,
          -0.8709754,
          -9.426346,
          -10.084277,
          7.367854,
          -9.8405075,
          -5.3848195,
          10.20805,
          -2.4528275,
          -6.322537,
          -1.5341461,
          -5.577648,
          -1.0867044,
          -6.972279,
          -0.5099109,
          -6.4194446,
          -3.260458,
          -4.0567327,
          16.017899,
          14.996341,
          -14.365705,
          -4.1086974,
          -2.940357,
          3.235374,
          -5.761549,
          17.625034,
          17.281414,
          13.603163,
          -12.666456,
          -0.5269719,
          -11.700103,
          -11.906999,
          17.49042,
          16.991007,
          -10.530739,
          11.945907,
          7.389906,
          -3.5217512,
          -1.802456,
          -3.867203,
          -2.7265377,
          -13.623967,
          0.9939617,
          2.3163111,
          -8.898853,
          16.472555,
          1.496979,
          -12.62444,
          -4.730626,
          17.824755,
          18.889668,
          9.6777315,
          13.751829,
          -4.10544,
          16.018934,
          -7.267861,
          -9.780865,
          -6.028248,
          11.510169,
          -0.11991501,
          -5.1694465,
          13.169481,
          14.735731,
          -4.793592,
          -10.695392,
          13.393306,
          -9.715034,
          18.749874,
          10.213588,
          0.58171195,
          -10.979272,
          14.001839,
          16.548723,
          -0.9308116,
          -6.2204456,
          -4.7394905,
          2.0423117,
          -6.378328,
          -10.055613,
          -6.2304187,
          -1.1707015,
          19.349009,
          -4.218375,
          0.9726273,
          -0.32256496,
          -2.4506845,
          -10.621456,
          15.681258,
          -12.208776,
          17.65163,
          -5.3598843,
          -6.7105136,
          0.08194492,
          -8.102161,
          -2.8375874,
          12.472741,
          10.445656,
          16.369406,
          -8.283094,
          -12.645561,
          14.18008,
          1.0258459,
          -6.3476434,
          14.272733,
          -3.3359177,
          -11.729538,
          -3.1805453,
          0.024484796,
          -8.475175,
          -6.526078,
          -5.4646335,
          -0.5353365,
          -4.1505404,
          -6.8665395,
          -9.552442,
          -6.8013535,
          -9.849811,
          -4.2594213,
          2.0288653,
          -10.140632,
          16.96926,
          -3.6138663,
          -8.937618,
          -4.4844832,
          -5.7836933,
          -10.331884,
          3.9257796,
          19.18426,
          -3.4864607,
          7.2176824,
          -4.102822,
          12.232299,
          3.456396,
          -3.168621,
          -7.196091,
          19.679306,
          -12.648533,
          -0.29832703,
          -9.81108,
          -6.265542,
          -1.4667143,
          18.683563,
          10.62303,
          -4.1574006,
          -3.8085926,
          -2.0377638,
          2.261291,
          9.9435425,
          -7.2011676,
          -2.5652974,
          13.840909,
          -2.8264928,
          12.502311,
          -9.549536,
          -2.89518,
          -4.174158,
          14.737303,
          20.14516,
          -1.9641075,
          -7.2800426,
          11.910195,
          -13.672395,
          7.2239814,
          -10.500824,
          -15.193226,
          8.695937,
          14.864253,
          -4.611108,
          10.939786,
          18.531738,
          -9.167105,
          8.175999,
          12.259915,
          -6.283039,
          10.116504,
          -9.191687,
          -12.756609,
          16.378439,
          0.72906995,
          1.4761744,
          8.970611,
          -15.361601,
          -15.337108,
          -0.24848315,
          9.933379,
          -9.47948,
          -10.437724,
          0.71934617,
          -6.141405,
          -13.220603,
          19.85705,
          -8.674686,
          9.226972,
          -11.232148,
          -7.7382736,
          -6.435846,
          -7.7922955,
          -7.617556,
          -5.867333,
          -1.0345545,
          12.65417,
          -3.6868675,
          -2.944032,
          -10.957079,
          -4.5718822,
          14.217948,
          13.581163,
          -3.1257524,
          13.729081,
          0.91177386,
          -2.516632,
          -4.3203855,
          7.9396105,
          -13.062581,
          16.119253,
          11.091861,
          17.94753,
          8.345745,
          15.885806,
          2.86514,
          13.560056,
          -8.351615,
          -5.3853326,
          0.52041763,
          -1.8180358,
          -5.1505723,
          -3.353514,
          -2.8080003,
          7.9811554,
          -15.318737,
          -10.767623,
          -2.8068588,
          11.408139,
          11.779485,
          -10.500262,
          -1.1060183,
          14.519383,
          -14.835104,
          -10.806726,
          -8.941669,
          -15.631714,
          -0.8159308,
          -0.17214784,
          -3.3208745,
          11.516855,
          11.81829,
          9.94211,
          18.438694,
          -3.587503,
          -2.6230814,
          -5.8545136,
          0.020649899,
          -0.9108017,
          0.6482772,
          16.46988,
          13.806954,
          -8.211085,
          14.538672,
          16.188393,
          3.6395667,
          12.678238,
          -4.0121784,
          1.1840801,
          -0.41621655,
          13.544425,
          -3.1243303,
          1.7385299,
          -10.475028,
          16.700933,
          -11.512585,
          14.753711,
          15.572018,
          -10.52801,
          -10.119797,
          -6.3625894,
          11.2628765,
          -15.448066,
          -8.468903,
          -3.2630324,
          12.862514,
          -13.060986,
          18.627337,
          2.3140552,
          14.876741,
          18.780281,
          -9.021505,
          16.087248,
          -5.737669,
          -13.518239,
          -8.130411,
          -1.8241171,
          17.70865,
          15.384605,
          -2.397484,
          15.240257,
          18.638876,
          16.797665,
          3.4780488,
          18.760775,
          -2.0206935,
          -5.758333,
          -4.7022886,
          -11.45839,
          -3.454856,
          -12.335048,
          10.151805,
          -1.621405,
          -11.8574,
          -12.626499,
          -1.174788,
          -6.8243184,
          -5.8690147,
          17.411554,
          -5.220404,
          -11.16357,
          1.7122736,
          18.922691,
          -0.098403476,
          -8.473049,
          17.205294,
          16.03994,
          12.726231,
          14.096452,
          15.14869,
          -3.2073286,
          10.770767,
          -2.9970376,
          12.972257,
          0.8439098,
          19.15339,
          16.69169,
          -4.5923567,
          2.8500676,
          11.915318,
          -6.423008,
          -4.318922,
          -4.6441417,
          -9.240032,
          -9.621755,
          -1.6147684,
          -3.176376,
          -3.313554,
          -0.9474452,
          -1.3042945,
          -7.953531,
          -8.232675,
          -0.81457514,
          9.781129,
          20.574778,
          -2.6781473,
          11.07408,
          -4.075936,
          -10.873431,
          -5.2565355,
          1.3195345,
          -15.176272,
          11.178742,
          -5.6019793,
          -4.1897902,
          -6.5479584,
          -1.2544388,
          16.186544,
          -0.81735307,
          7.1367097,
          1.4840847,
          -1.4950848,
          -6.8782253,
          15.110626,
          -13.15108,
          7.9357853,
          -6.865674,
          13.520349,
          -6.7773066,
          -9.973312,
          -7.7677536,
          -2.9389307,
          16.694757,
          -7.014363,
          2.017859,
          11.769193,
          -5.2339654,
          -5.28424,
          15.919415,
          18.720594,
          -7.094173,
          0.6761526,
          -2.5274494,
          14.153115,
          -0.44247124,
          15.875043,
          0.44152966,
          1.1351484,
          -7.8138475,
          -1.3965098,
          -10.114999,
          -9.063351,
          -1.751977,
          11.649226,
          -10.263003,
          2.5924716,
          15.203315,
          15.128084,
          -0.07906248,
          8.9543295,
          -9.600616,
          -5.6949544,
          10.982059,
          -9.800381,
          -7.736517,
          -12.331926,
          -11.75235,
          17.48055,
          18.036482,
          14.401229,
          15.920006,
          19.293676,
          0.91334385,
          17.661251,
          12.739407,
          -5.1352444,
          -11.736741,
          -15.670344,
          11.999544,
          -1.6871628,
          -13.062949,
          5.543438,
          13.143763,
          -8.92091,
          8.1099,
          18.044262,
          14.414111,
          -1.7386427,
          9.000849,
          9.257078,
          -10.01223,
          -5.0989046,
          -2.5143456,
          -6.498517,
          10.850515,
          8.169508,
          17.388689,
          -6.4820056,
          -5.1565037,
          4.14627,
          -3.7633455,
          1.7182976,
          2.134025,
          0.57733303,
          2.5984883,
          11.928006,
          12.223203,
          15.693607,
          8.711631,
          -1.482306,
          13.166398,
          -1.658893,
          -4.4858766,
          1.4415208,
          16.661022,
          -9.235404,
          -13.1889,
          -14.5860195,
          12.24156,
          -3.7196462,
          -6.197605,
          -5.8299594,
          11.982332,
          -3.6085925,
          -14.243198,
          -11.639653,
          15.769657,
          8.757154,
          19.255281,
          1.2485194,
          11.72925,
          0.0069409763,
          -5.574697,
          -10.695996,
          8.062966,
          -11.853675,
          -5.8936777,
          14.680613,
          -10.774395,
          17.816673,
          -9.080537,
          -8.058694,
          -5.9159856,
          -2.0880816,
          -4.7370434,
          -3.5219476,
          12.323736,
          -2.5548956,
          12.431134,
          -11.518552,
          -4.4887013,
          -0.16267413,
          -2.0646672,
          -4.683608,
          -11.412639,
          -4.0043883,
          -1.6330281,
          -15.1383095,
          -3.49921,
          -10.199411,
          -3.7639024,
          1.5417548,
          -7.326135,
          -14.803313,
          18.922297,
          -5.973972,
          12.257632,
          -14.442469,
          -11.189934,
          19.701038,
          -9.235459,
          13.224944,
          -13.077445,
          -5.0490174,
          4.61189,
          -10.705243,
          8.210711,
          -11.452742,
          -9.340226,
          -4.82797,
          -3.6860726,
          -0.48393056,
          1.8983415,
          7.6404676,
          -8.290499,
          -10.592432,
          -3.0793898,
          16.517939,
          -7.435288,
          11.316611,
          11.365211,
          -13.487302,
          -3.3842225,
          1.9131387,
          8.205273,
          0.5064262,
          19.623295,
          9.766814,
          15.337096,
          16.180063,
          7.5148616,
          -15.155889,
          2.6632752,
          -1.7317766,
          -7.017928,
          16.498556,
          -12.933436,
          -6.388584,
          16.639696,
          -3.1661177,
          -5.2039685,
          17.203028,
          11.064777,
          8.802646,
          12.285867,
          13.981621,
          11.328228,
          15.034848,
          -9.192265,
          -10.826175,
          -9.005512,
          15.377448,
          -1.0229977,
          -3.6179593,
          13.520939,
          1.9681985,
          -11.422386,
          -7.8011675,
          -2.4732032,
          12.912705,
          -4.568515,
          -9.506589,
          -10.583802,
          -0.63697904,
          0.09976201,
          -2.3752153,
          16.691065,
          -13.057876,
          13.047248,
          -3.4860353,
          -11.812964,
          2.6264763,
          -11.318677,
          -0.5034899,
          16.925287,
          -4.782149,
          -11.463884,
          13.177492,
          -6.3876395,
          17.930767,
          -9.995192,
          -5.7369385,
          -8.560953,
          -0.46016163,
          -7.018509,
          -4.615899,
          -3.723493,
          -4.696287,
          6.9869494,
          -7.329665,
          -13.459142,
          -10.010297,
          16.830177,
          17.348055,
          16.38943,
          -3.8304443,
          -5.298603,
          -2.757231,
          9.785175,
          11.488058,
          16.794577,
          9.646659,
          -9.352081,
          17.024021,
          -8.356763,
          -6.2671123,
          -7.1916203,
          0.33807138,
          -2.0081334,
          -1.4193808,
          -6.2429824,
          -11.133777,
          20.141638,
          -12.71709,
          11.428185,
          15.567493,
          2.8691795,
          9.619226,
          -14.392465,
          -4.758348,
          -6.4249544,
          -9.993652,
          -14.142027,
          12.756087,
          11.507561,
          -4.2062855,
          -0.9866529,
          16.48711,
          17.13271,
          -3.8988225,
          18.780466,
          -3.45185,
          -9.29059,
          0.9975703,
          -7.4238763,
          2.578865,
          -3.9132483,
          -3.770823,
          0.26013094,
          12.638758,
          -8.585677,
          -5.695923,
          18.988771,
          17.109617,
          11.719963,
          -9.253391,
          6.442212,
          1.9715898,
          16.524363,
          6.975961,
          -4.1954513,
          -14.988654,
          13.753603,
          -13.246195,
          12.716572,
          -13.148393,
          -9.965951,
          -1.0264208,
          3.0791173,
          -3.5454447,
          -3.741747,
          19.477009,
          16.521292,
          -5.235686,
          -6.218161,
          17.390085,
          13.970351,
          10.840344,
          -3.1299863,
          -6.073981,
          -4.2266498,
          7.4155183,
          -15.036819,
          -4.8544455,
          -10.469928,
          -3.2607603,
          -15.822409,
          11.791252,
          -7.4616733,
          17.2807,
          -12.330345,
          -5.076787,
          11.250297,
          -9.903176,
          -4.360033,
          -3.566504,
          16.383049,
          -1.6007749,
          12.0597515,
          11.825565,
          -2.6456318,
          -14.089537,
          -3.8204682,
          16.638304,
          -6.00791,
          -3.8172357,
          14.425968,
          15.27295,
          13.921729,
          12.741382,
          -13.378426,
          -13.412653,
          6.451346,
          13.771653,
          -4.308277,
          -4.9571166,
          -13.831672,
          14.2827835,
          13.628632
         ],
         "y": [
          7.2752457,
          -9.680383,
          13.30791,
          -1.3406327,
          14.741457,
          -3.3325582,
          -16.100285,
          -2.643056,
          2.9605546,
          -6.3334107,
          -5.2200193,
          10.254574,
          -0.93255764,
          10.834625,
          5.271469,
          3.9792998,
          -1.0478176,
          -7.8068995,
          13.695381,
          8.465809,
          -3.5215454,
          12.605832,
          10.958159,
          2.5595024,
          -0.21178277,
          14.916388,
          9.407826,
          1.8970892,
          4.121483,
          2.569482,
          2.1359458,
          -11.354542,
          10.146671,
          3.5462809,
          -1.1128993,
          13.09165,
          1.768593,
          2.0509322,
          11.621773,
          -4.0768566,
          -8.980602,
          3.050616,
          -5.8221254,
          2.0411825,
          4.078603,
          3.309658,
          3.8945012,
          2.4632118,
          9.994172,
          -8.610289,
          -7.5494413,
          14.066708,
          -0.054496996,
          3.416539,
          -1.8373066,
          -7.666761,
          -5.380187,
          -0.29188728,
          3.1170967,
          8.304205,
          1.0640231,
          -3.4844272,
          7.8026857,
          2.5246687,
          -5.0363207,
          4.1379313,
          -7.1248326,
          -7.4950466,
          9.993764,
          -2.3579366,
          4.065683,
          -0.13976982,
          9.231883,
          -4.794439,
          10.075373,
          9.121294,
          9.458631,
          3.9972413,
          6.741667,
          6.1750803,
          5.8592854,
          10.80996,
          10.9174185,
          -3.4794824,
          -12.777418,
          -7.1115932,
          -9.160965,
          -11.329511,
          -3.8771887,
          10.740981,
          11.249651,
          -4.767385,
          -4.5273447,
          -15.737777,
          -13.3479595,
          6.997495,
          -0.79022425,
          -7.2901034,
          -4.2157044,
          9.497142,
          10.564717,
          -9.01646,
          -7.1225376,
          -0.8700027,
          6.796789,
          1.9862931,
          -3.0302358,
          -9.888606,
          10.610206,
          2.9969647,
          9.520908,
          12.600558,
          -7.6205583,
          8.065846,
          13.044425,
          9.890785,
          -15.492531,
          -16.003716,
          -3.0401733,
          -4.6871023,
          9.4222355,
          -2.158871,
          -8.488646,
          -6.9384155,
          -1.3500887,
          -9.134452,
          -11.761922,
          -1.2611356,
          -11.94681,
          -8.239561,
          -3.0760534,
          -0.6999263,
          -4.3437395,
          -13.635356,
          -10.622392,
          6.570652,
          11.748538,
          -2.8659484,
          -10.361735,
          -0.652241,
          -4.742475,
          12.108228,
          -0.8897553,
          12.08287,
          -5.7027354,
          4.3739033,
          -2.8523538,
          -8.422896,
          -10.485668,
          -0.62368786,
          10.657114,
          9.192874,
          -4.2201195,
          -1.4028083,
          11.481524,
          -1.6390268,
          -6.4317803,
          -8.451109,
          7.175626,
          -4.0915093,
          -15.151339,
          -0.9621699,
          5.631573,
          6.260841,
          -2.0367785,
          -9.555084,
          -4.508369,
          2.2795265,
          8.333296,
          -1.1851932,
          -3.2144654,
          -6.1022224,
          -0.9240669,
          11.774065,
          -2.670086,
          -10.346528,
          -1.8589495,
          11.331316,
          -10.802593,
          -1.4644626,
          -3.648434,
          0.9500251,
          -11.17878,
          5.0321555,
          3.185396,
          -15.928708,
          3.646051,
          -3.2526586,
          5.7654533,
          9.084404,
          -8.5556345,
          12.75359,
          -5.203274,
          13.119585,
          -12.108738,
          -15.933417,
          -4.942951,
          -9.377792,
          10.706471,
          -1.5598553,
          -1.6688433,
          -0.45819902,
          -12.595691,
          10.999521,
          12.729104,
          -11.416161,
          6.575805,
          -2.2827046,
          0.086199924,
          -12.533396,
          -3.2569687,
          4.813781,
          4.4270754,
          10.782743,
          -2.2392836,
          -3.1852326,
          -11.802363,
          4.808493,
          5.5384064,
          -0.20362641,
          13.437642,
          -8.915841,
          10.599058,
          9.969589,
          -11.3956995,
          7.4001136,
          -5.0668902,
          5.6207724,
          -10.912806,
          3.1011305,
          -14.9004965,
          -4.749666,
          -2.4097664,
          -2.4314687,
          -14.955462,
          -8.765909,
          1.5179543,
          8.742575,
          -1.0001638,
          11.305784,
          -2.677969,
          -5.9800296,
          9.257991,
          -11.677668,
          -0.54239947,
          -10.918005,
          6.044991,
          5.555391,
          -4.721794,
          11.399612,
          -0.37348256,
          -1.3618652,
          0.061413527,
          -1.3925856,
          2.5425298,
          0.33121195,
          7.7309723,
          -13.005702,
          3.8168676,
          -5.478596,
          9.870215,
          -2.4293892,
          13.356709,
          -3.1132877,
          0.43182907,
          -11.4154215,
          -2.4859443,
          -12.535459,
          10.552994,
          -7.934438,
          -8.74237,
          -13.233049,
          7.9881783,
          9.448013,
          -2.6657846,
          -4.607496,
          6.7771983,
          12.79886,
          -9.469173,
          5.5933585,
          -5.756475,
          9.2203665,
          4.147691,
          8.262689,
          12.327782,
          -8.078056,
          -5.858655,
          -9.412944,
          -11.903857,
          10.460838,
          11.652723,
          -10.97077,
          -2.5654802,
          -7.918774,
          -3.4040122,
          -6.3421855,
          -2.3447926,
          5.182705,
          -2.5060265,
          8.565741,
          -7.7267714,
          -14.440207,
          3.503993,
          -0.8512996,
          -0.6045223,
          7.483902,
          -7.039459,
          7.0234294,
          -8.406418,
          3.6150286,
          2.7699995,
          -8.275763,
          1.4944863,
          10.63911,
          -5.2476773,
          8.980576,
          -1.2784537,
          -13.534406,
          7.616551,
          -12.1779175,
          -7.306274,
          7.0420012,
          -0.87813735,
          -9.097883,
          9.8050165,
          11.000697,
          -1.0152658,
          -2.3674035,
          7.218147,
          -1.5888349,
          -12.83895,
          6.268824,
          -4.252334,
          0.43979394,
          -10.791827,
          9.101651,
          -9.316664,
          6.0559726,
          3.4031873,
          6.3246136,
          6.623437,
          3.6222858,
          -3.313709,
          -2.1606846,
          -2.2998872,
          8.89688,
          -14.224749,
          -10.538147,
          -1.9615955,
          6.143091,
          -0.4298894,
          7.3044195,
          -5.114612,
          -12.7744875,
          -5.9013824,
          3.5697296,
          -1.1778269,
          -9.535318,
          6.080465,
          13.393589,
          -8.744981,
          -7.8488903,
          3.0099702,
          -7.5700827,
          -1.7516714,
          5.341531,
          3.4801023,
          -15.092581,
          -12.7740345,
          -10.49706,
          -6.953685,
          -2.7571409,
          10.808338,
          6.283169,
          -0.82821864,
          -5.8519616,
          8.793774,
          -0.95735365,
          -12.608036,
          12.267616,
          -3.6441064,
          0.18541287,
          9.606019,
          8.193844,
          -8.64226,
          -0.85180575,
          -2.1479821,
          -1.487556,
          -2.0063834,
          12.055579,
          -6.684096,
          -0.26420298,
          9.563745,
          8.459038,
          -14.470407,
          -12.847209,
          2.1196792,
          -0.21144082,
          10.865973,
          5.223259,
          -4.221472,
          -5.8420935,
          -8.130608,
          -11.653373,
          -0.22300962,
          -13.402941,
          9.39064,
          1.4469297,
          -5.526042,
          -9.5691805,
          -9.487992,
          10.942551,
          5.303358,
          6.7961435,
          -11.673761,
          -5.281791,
          -9.614827,
          -12.33,
          -2.7764075,
          8.681338,
          12.317449,
          -5.1146655,
          -8.733959,
          -8.833644,
          8.283327,
          -11.254375,
          -14.859556,
          -1.1120174,
          9.086904,
          9.084924,
          10.080842,
          -16.155296,
          -3.8243349,
          -0.44047028,
          4.481194,
          -3.525629,
          -14.1250925,
          10.370178,
          10.027265,
          12.914635,
          2.78925,
          6.076343,
          13.001347,
          9.571103,
          -2.6658974,
          -2.3237007,
          3.1608262,
          -3.7717865,
          10.153085,
          0.6884353,
          -5.998179,
          11.746895,
          -6.4572654,
          7.2955384,
          -6.433207,
          -12.457195,
          -2.1717637,
          11.311011,
          7.198402,
          8.026089,
          -8.348101,
          11.854047,
          -6.196865,
          4.0760903,
          0.77851534,
          11.01835,
          11.008433,
          2.354239,
          -9.796876,
          9.117208,
          8.813985,
          -15.283786,
          -9.1900215,
          6.917303,
          -5.998117,
          -12.406931,
          -15.34005,
          -0.42752424,
          6.366606,
          -10.961313,
          -7.888989,
          -4.390649,
          -0.3390755,
          9.219258,
          -15.713827,
          10.043116,
          -4.8672996,
          8.79465,
          6.85823,
          11.792046,
          5.692091,
          -6.2703667,
          1.6250906,
          3.3957787,
          9.375062,
          -2.1472983,
          -9.134797,
          -5.2664423,
          -2.435468,
          9.764605,
          -10.4835615,
          1.524816,
          11.889796,
          -3.6276948,
          8.535224,
          11.278775,
          8.322784,
          -9.720918,
          9.160769,
          1.4695636,
          13.299534,
          -8.977526,
          -6.488305,
          5.55025,
          6.3706374,
          -3.6890244,
          -0.95678717,
          7.8100758,
          -0.583421,
          -7.063941,
          11.217,
          9.5231905,
          4.0286903,
          6.853354,
          6.398099,
          -14.668544,
          7.7191677,
          -14.333859,
          -2.1867044,
          9.890664,
          -7.0916457,
          3.5853848,
          -5.1920447,
          -6.9056067,
          -6.0070953,
          2.5647705,
          -10.466788,
          10.9058485,
          5.3648944,
          -8.2926235,
          -1.2214167,
          -3.13872,
          -9.182223,
          -11.254062,
          -10.912936,
          -5.90516,
          3.3872461,
          -2.47253,
          -1.4830244,
          4.055006,
          -2.1080148,
          8.016743,
          10.893178,
          7.3135953,
          -4.208611,
          -10.608336,
          -5.332868,
          9.513178,
          -1.925672,
          0.22018984,
          10.12567,
          5.3999867,
          -4.879478,
          -3.9053264,
          -5.6963325,
          5.8595705,
          -7.9877357,
          1.1735655,
          -2.0439339,
          -5.3842063,
          8.144057,
          -5.7860913,
          -1.224117,
          6.5446353,
          -11.136186,
          3.1879263,
          -12.292939,
          -12.007805,
          8.1720085,
          9.768301,
          11.785203,
          7.9056644,
          6.770565,
          -13.219704,
          -8.4095745,
          6.4190335,
          9.3482,
          -4.883019,
          -12.899554,
          3.5461483,
          -6.467369,
          -5.592586,
          0.69010377,
          -0.44087687,
          1.1629611,
          -0.41136777,
          -1.3578917,
          4.1651177,
          -0.7634517,
          9.70006,
          -3.6174626,
          -1.3524884,
          1.788025,
          -15.728999,
          -2.8775835,
          -10.636045,
          -2.131226,
          7.24734,
          -5.375444,
          -8.359099,
          3.2960963,
          10.428629,
          10.684145,
          7.6273084,
          4.2721624,
          -5.575491,
          -4.103923,
          -4.516973,
          -1.3945674,
          9.799929,
          2.9387946,
          -1.1666708,
          -0.113054484,
          0.26711616,
          6.9009013,
          0.69623554,
          -15.228467,
          13.367088,
          0.3227844,
          4.03703,
          5.9645505,
          -8.846767,
          8.863556,
          10.162614,
          10.868863,
          5.6950803,
          8.717287,
          2.5431757,
          -6.133803,
          1.5684944,
          12.674918,
          -12.581246,
          -15.66882,
          11.934086,
          6.35116,
          5.5464783,
          9.2076235,
          6.485831,
          0.9643517,
          8.400588,
          -5.0212293,
          -7.6851068,
          -0.26062372,
          -4.234137,
          -9.971974,
          -9.780564,
          10.122929,
          7.807118,
          -0.7255812,
          3.233784,
          3.1557894,
          -1.0848242,
          0.90075845,
          8.052404,
          -2.7337284,
          1.4799962,
          -3.1755857,
          -14.066682,
          -9.572178,
          -9.208859,
          -0.76496184,
          3.5615885,
          -1.1883031,
          2.1994627,
          -3.3332808,
          -2.9782188,
          -12.109073,
          -7.464512,
          -1.6427716,
          -13.485936,
          7.8652925,
          -6.2959332,
          6.6673717,
          -1.173632,
          -4.2561235,
          -9.663888,
          3.9131584,
          -9.864857,
          -5.1010695,
          2.6957538,
          5.8100147,
          2.4067693,
          5.249093,
          -3.8278804,
          -7.1022267,
          -5.3091087,
          12.436134,
          7.6136637,
          7.155428,
          3.9093466,
          -4.0825086,
          3.8353035,
          10.832701,
          4.122886,
          4.4095917,
          -7.6251793,
          -3.8719525,
          6.8926353,
          4.176714,
          2.150496,
          3.651536,
          -7.7361565,
          -1.1261437,
          15.096698,
          4.8302674,
          -5.015974,
          -3.4894843,
          2.6563673,
          4.8244143,
          -4.8171062,
          13.669886,
          -14.061537,
          -4.252652,
          14.092239,
          -4.3707757,
          10.148582,
          0.98266405,
          -5.740458,
          -0.39368075,
          -3.5905282,
          -3.4072592,
          10.085681,
          2.2616725,
          0.7598537,
          -2.2717388,
          -5.62967,
          10.230477,
          4.8692985,
          5.827093,
          3.2819295,
          -0.5775345,
          9.362186,
          8.576595,
          2.4797254,
          11.122593,
          5.3367524,
          9.554734,
          -7.1040306,
          11.378836,
          3.4869175,
          -9.605601,
          10.926975,
          -13.844791,
          -12.253135,
          -6.0655313,
          11.924681,
          6.2191052,
          -2.7285626,
          5.6735635,
          -10.025343,
          4.421825,
          -1.1122627,
          -4.110476,
          -10.012347,
          8.677386,
          -14.837089,
          -13.471797,
          12.1003895,
          -13.852582,
          13.288182,
          6.232717,
          6.612444,
          2.2027948,
          -14.591913,
          10.024429,
          -6.3019295,
          0.25832212,
          -3.8864923,
          8.840632,
          9.6365795,
          9.95948,
          -14.329447,
          -6.3443584,
          10.302497,
          5.2328,
          3.700678,
          -4.6354012,
          -3.512845,
          6.700607,
          7.764409,
          -0.60388714,
          7.5364985,
          3.068129,
          7.974282,
          -13.1152525,
          -11.545387,
          -4.0936065,
          10.434431,
          8.974204,
          -8.065248,
          -2.416034,
          0.96037036,
          -1.30024,
          -10.437784,
          11.793771,
          -9.700635,
          -3.8058064,
          -10.246348,
          -5.007674,
          -6.63917,
          10.307984,
          1.507465,
          8.394619,
          12.589903,
          -6.2926855,
          9.974881,
          -8.054876,
          0.595906,
          -1.6275781,
          -2.4045372,
          -4.0086536,
          10.129747,
          5.252423,
          -8.378838,
          -5.9884624,
          -14.853786,
          -5.005403,
          7.114034,
          10.428055,
          4.498369,
          -10.530916,
          12.4088545,
          7.297666,
          1.8149621,
          11.85816,
          -2.3191884,
          10.6521,
          13.186628,
          -4.309368,
          -3.5214858,
          9.440532,
          -0.7343069,
          -2.2526052,
          -10.065739,
          -13.34984,
          -5.5708694,
          -6.2783465,
          8.994142,
          9.844025,
          -1.2169328,
          -5.1513815,
          10.736836,
          -2.4581347,
          9.326107,
          -2.2584426,
          -7.425303,
          -2.4614043,
          -6.525971,
          7.142239,
          3.1464007,
          11.230136,
          7.2106433,
          -0.74728423,
          9.895746,
          -6.781893,
          -2.8502848,
          -16.269829,
          7.6187515,
          -3.0124128,
          11.482517,
          -2.3285875,
          -2.4633741,
          -9.43837,
          9.919753,
          -12.93829,
          -4.63436,
          -14.574437,
          -4.6682725,
          7.7757173,
          11.212871,
          11.894815,
          4.80754,
          3.5766063,
          0.6870363,
          -0.37796715,
          -7.29831,
          9.854891,
          -2.5919342,
          8.100941,
          2.2788951,
          10.844605,
          3.1934717,
          7.6776676,
          4.4112034,
          4.7232423,
          10.502584,
          7.0459485,
          -10.893654,
          -2.2483878,
          -4.7948403,
          -9.145303,
          -2.4874127,
          -5.1857395,
          0.9958115,
          9.964491,
          11.424021,
          -2.1795626,
          -10.808375,
          7.2302103,
          9.6602955,
          -7.493267,
          -4.7294693,
          -4.3309836,
          9.937995,
          2.6506279,
          13.601392,
          6.8882947,
          -7.3492026,
          -6.443998,
          -6.341916,
          10.820651,
          -4.3828926,
          -4.681872,
          6.3349366,
          -7.565146,
          11.445568,
          -12.532159,
          7.1498995,
          -2.6975896,
          -7.8123775,
          13.626769,
          -3.1259267,
          -8.5061865,
          2.3025734,
          -0.83536786,
          8.862274,
          -1.1280472,
          11.905108,
          -10.303083,
          -4.4309354,
          8.71601,
          -3.177321,
          6.3608437,
          -5.968826,
          6.916188,
          4.62205,
          5.5538363,
          6.7814465,
          -8.926411,
          -13.134998,
          5.9577255,
          1.0520724,
          0.31275067,
          -1.6210942,
          -0.9386648,
          -9.555766,
          -6.9597735,
          2.8857956,
          1.8840679,
          -3.8819134,
          -13.2470665,
          -4.9263334,
          11.147672,
          7.226825,
          7.9893126,
          -9.429729,
          -8.081559,
          7.8345027,
          3.50821,
          -3.807856,
          5.5480466,
          8.437597,
          6.2680116,
          13.577881,
          6.2082815,
          -12.039843,
          -11.084647,
          6.134063,
          2.1769097,
          -3.7481205,
          3.5626137,
          10.822812,
          4.7688236,
          -15.872189,
          5.5176845,
          -5.6934175,
          -4.2481365,
          -2.626396,
          -5.395873,
          10.527975,
          -3.1027067,
          8.261587,
          5.146654,
          11.755443,
          4.2836943,
          7.088354,
          -5.7668805,
          6.6226907,
          -1.0520625,
          10.330692
         ],
         "z": [
          -0.4759774,
          5.2845783,
          -2.180625,
          -3.5133064,
          0.07424734,
          -1.748312,
          1.4381177,
          0.6355757,
          0.21008626,
          0.81025225,
          2.3272862,
          -4.0663013,
          6.5528483,
          4.0186486,
          -0.95345694,
          -5.1035776,
          6.6086435,
          -4.332467,
          -2.0565817,
          -4.1782136,
          -2.196319,
          -1.0652251,
          3.1513057,
          0.8171664,
          3.297853,
          -1.9956224,
          -3.7360618,
          -2.430322,
          -5.9062386,
          1.2522478,
          -2.0302403,
          0.8019785,
          3.849858,
          -1.4725277,
          3.1361125,
          -2.7553,
          -3.3703542,
          -2.6904345,
          -0.034706708,
          -0.3378639,
          -0.37259522,
          -1.8946959,
          -3.20221,
          3.556788,
          -1.0828853,
          -5.531813,
          -1.9597266,
          0.51633996,
          -3.961963,
          0.1976451,
          -2.752102,
          -1.7888341,
          1.8573929,
          -5.3472776,
          -1.5133007,
          -2.5639873,
          0.2290279,
          5.796317,
          -1.4429168,
          0.6758052,
          4.4726405,
          -4.688345,
          -1.9979459,
          -1.7638999,
          -0.48067996,
          -2.8132105,
          4.0778327,
          -4.821087,
          -2.838389,
          2.8333821,
          1.2018698,
          -1.3453434,
          2.3786232,
          -2.2717812,
          -3.1414964,
          -2.1053014,
          -0.7814093,
          -0.565729,
          -0.059757948,
          1.7825766,
          1.5090196,
          -1.9500092,
          2.6438556,
          -4.4314423,
          0.8742126,
          2.5026255,
          -1.91977,
          1.9377543,
          2.4650164,
          0.971199,
          -3.3722851,
          1.4004562,
          -4.063048,
          0.9563155,
          -3.1670353,
          -0.79605067,
          -0.8870108,
          0.65287894,
          -6.196313,
          0.45218074,
          1.4778183,
          0.28084368,
          0.90190923,
          2.196004,
          -2.2329366,
          -1.7130158,
          -2.5843868,
          -1.6189873,
          -2.2992637,
          -1.171016,
          0.87808156,
          2.1950693,
          2.1166563,
          -0.354996,
          -1.7729402,
          0.40752864,
          -2.9983773,
          0.91602916,
          -2.876092,
          -7.2984457,
          0.60481507,
          2.1235557,
          -1.5884842,
          -1.2642235,
          -5.432107,
          3.1642048,
          -3.7685125,
          -2.2035668,
          1.3297287,
          2.7302785,
          5.2035513,
          -0.06730069,
          -2.455717,
          0.115078084,
          -0.112483084,
          -2.275035,
          1.3347772,
          -3.9151223,
          2.3765063,
          0.52502126,
          -1.7039856,
          -0.14820077,
          2.9599817,
          1.2831681,
          -8.099325,
          -0.34841686,
          2.2934647,
          2.0830595,
          3.5680397,
          -1.601152,
          1.8492395,
          -2.649463,
          0.9810431,
          3.564332,
          -0.44021946,
          -1.1104962,
          0.5031195,
          -1.3590221,
          -3.6920824,
          -1.0736017,
          -2.0097504,
          5.2861967,
          -3.1004598,
          1.6336621,
          -1.2795967,
          -1.0687944,
          -2.6123605,
          2.4874952,
          -0.32097223,
          -5.6899767,
          -2.4390712,
          1.1285344,
          2.07145,
          -1.2884649,
          -3.253395,
          1.5670179,
          -0.26595697,
          -1.948394,
          3.2044585,
          -3.5689995,
          -0.46865657,
          1.2695774,
          -0.89687335,
          2.627877,
          2.772211,
          -2.067065,
          0.52533495,
          4.836047,
          0.04913541,
          -2.0324361,
          1.3295206,
          0.25915366,
          1.0232302,
          -1.3833716,
          -3.4623852,
          -0.20574446,
          -0.5628962,
          -2.7738698,
          2.3301399,
          -5.020481,
          3.80178,
          -0.9365217,
          -3.1748164,
          2.485438,
          -1.7899702,
          0.29731816,
          3.79812,
          4.0303698,
          0.7932563,
          1.9945157,
          -3.811168,
          1.9858357,
          -2.1534262,
          0.83706075,
          2.2164876,
          0.4256457,
          2.0827315,
          0.51586205,
          -1.4449362,
          0.8118371,
          -2.086108,
          0.43355948,
          1.3923678,
          -1.1857362,
          -1.9050118,
          3.28548,
          -1.6389002,
          1.4374167,
          -0.13506216,
          4.875907,
          0.3376927,
          -4.051334,
          -2.830346,
          -3.8089345,
          2.1825268,
          -0.049139827,
          3.829395,
          -1.6918539,
          -2.022961,
          -3.304251,
          3.7309022,
          -1.2961638,
          -2.0373268,
          1.6044421,
          0.9419277,
          -1.31947,
          -2.1341236,
          -1.7589887,
          -1.1893692,
          2.5418005,
          5.5519505,
          -1.2826594,
          -1.3425176,
          5.0209455,
          -1.1133823,
          -0.15206197,
          -2.6453028,
          0.58309793,
          4.8186774,
          -8.42505,
          -1.919984,
          4.1999564,
          0.13190395,
          -1.6485643,
          4.3203416,
          1.7243662,
          -3.437007,
          -2.4995217,
          -2.5441384,
          -3.8678274,
          -1.9613633,
          -1.5280293,
          -3.842843,
          -2.7745085,
          -1.3218434,
          4.052435,
          -1.0110327,
          0.094388746,
          -1.0827885,
          -0.22237827,
          -1.7214649,
          -2.4936593,
          -0.17871836,
          -0.6114083,
          -1.7442338,
          2.2772162,
          -5.256294,
          0.62437874,
          0.2940447,
          1.6306099,
          1.4442967,
          -1.0068452,
          -2.4992735,
          1.8614557,
          -4.2163897,
          -0.32208943,
          1.8840663,
          1.2282718,
          -2.3781736,
          -1.8095192,
          2.8619099,
          0.18100128,
          0.019709373,
          0.21842389,
          2.1962306,
          -3.9225998,
          -0.7098394,
          -3.1923952,
          0.12966299,
          2.966688,
          2.9786336,
          2.4644423,
          1.9548119,
          -3.1614692,
          0.60624504,
          -0.79284346,
          -5.503903,
          1.5671276,
          -3.2692714,
          -2.3658488,
          2.7633584,
          -3.6404407,
          -2.2254827,
          0.68433625,
          2.329069,
          -2.3068612,
          -3.676744,
          -2.3158467,
          1.383507,
          1.4040821,
          -2.8310792,
          0.62706685,
          4.3068094,
          -1.3873736,
          2.0521111,
          -0.04688076,
          2.360578,
          -2.5281172,
          0.22832313,
          1.6910421,
          -3.3902333,
          1.4584674,
          -3.012415,
          3.9665852,
          0.031652093,
          2.0498316,
          0.44868186,
          0.60757893,
          -2.0218456,
          0.9215846,
          -1.7138718,
          -3.925496,
          -9.180926,
          -1.4002796,
          -5.24008,
          1.7206627,
          1.9337208,
          1.6612468,
          -0.18216054,
          -1.693164,
          3.9758835,
          0.054042716,
          1.0778421,
          0.34514853,
          -2.023068,
          -2.740857,
          -1.8478557,
          -1.5360589,
          0.1467816,
          -2.1060038,
          -3.225011,
          3.523192,
          -0.68956393,
          0.082242794,
          -2.2890387,
          -1.4921577,
          -2.482659,
          1.2120436,
          -2.2978673,
          -1.2188215,
          -0.678921,
          0.57534784,
          -3.4876902,
          2.8102946,
          3.4809504,
          -1.2178826,
          -2.4985697,
          -2.1262586,
          -4.5796576,
          2.079864,
          0.10389603,
          -1.0956268,
          -4.5119424,
          -2.0277264,
          2.5515797,
          -1.5347793,
          -1.9123931,
          0.5848251,
          -1.4925195,
          -1.7567531,
          -7.154354,
          1.6235595,
          2.767164,
          0.038346265,
          -0.4425018,
          -2.176915,
          0.11753479,
          0.9244,
          -0.8233482,
          -2.0148053,
          2.7734005,
          -1.130451,
          -2.2558146,
          -2.8873506,
          -0.62972754,
          -3.6173408,
          2.2610762,
          2.750588,
          -2.513491,
          1.927939,
          2.1787362,
          -1.6844633,
          0.22241814,
          3.5278995,
          -0.37786314,
          -0.122648135,
          0.70499635,
          1.8278404,
          1.2062979,
          -0.42723197,
          0.014183314,
          -1.1613551,
          -4.919652,
          0.13821608,
          0.44810614,
          -1.8116257,
          0.102219,
          0.13767831,
          -1.8045012,
          -1.0761762,
          -1.4991592,
          -0.15888596,
          -1.9179211,
          0.19769411,
          1.3717656,
          0.3124092,
          0.5053593,
          2.9794865,
          1.9861029,
          -0.343207,
          0.7108999,
          0.8745614,
          -1.4042648,
          -3.5209944,
          1.9432206,
          -3.7000902,
          -1.8918443,
          0.75441855,
          -0.6588693,
          0.71909183,
          3.927302,
          -2.2174475,
          -4.0529847,
          3.0707202,
          -0.55240166,
          -3.3822856,
          -2.3479042,
          0.7040284,
          -0.6688568,
          -0.44297794,
          1.2169287,
          -1.5764756,
          -2.5311382,
          -2.8877394,
          -1.7315847,
          -2.791541,
          0.21194072,
          3.1486523,
          -0.4631011,
          2.6523511,
          -0.24461482,
          -4.2811685,
          3.0272229,
          1.7181498,
          -2.4403431,
          0.7268818,
          0.5582958,
          1.9794985,
          -2.4227254,
          -3.973284,
          -1.7206557,
          0.48841414,
          4.420577,
          -0.251665,
          -1.2980987,
          2.56182,
          -2.3023226,
          -0.2573475,
          3.1307096,
          1.527515,
          2.4355826,
          -2.0027375,
          -2.236503,
          2.1676018,
          1.1199541,
          -3.574454,
          -2.0005183,
          1.7146704,
          2.798987,
          1.6115339,
          -0.8462554,
          -1.1072967,
          -1.5646323,
          1.4184284,
          0.9308799,
          2.4508421,
          5.2150393,
          -1.2968512,
          -1.9059025,
          -1.5694236,
          3.3890526,
          3.2917788,
          3.82554,
          1.6359005,
          -1.2762126,
          -3.789459,
          2.5429304,
          0.06658547,
          -3.1761498,
          -0.4627869,
          0.7249892,
          -1.5823805,
          -1.8878299,
          -3.9155302,
          0.82135767,
          3.0649478,
          -1.4868624,
          1.9269427,
          1.6928355,
          -3.600479,
          1.0878197,
          0.9397964,
          2.749828,
          3.6650658,
          0.47300357,
          -2.7011518,
          -0.79046416,
          -0.16590601,
          2.4370668,
          -0.7066656,
          1.019853,
          -1.5228301,
          -1.4943615,
          -3.7158892,
          3.6570926,
          -3.2438962,
          -1.3497635,
          -4.603127,
          -3.3150241,
          -0.25041705,
          -0.116872326,
          -1.6550432,
          3.7788389,
          3.1011653,
          -5.9816804,
          3.1712158,
          -0.42974082,
          -1.697956,
          2.8138082,
          2.762558,
          0.169465,
          1.5986203,
          0.61862546,
          0.8751171,
          2.5660703,
          2.6952817,
          2.7876077,
          1.4361475,
          -1.1745051,
          0.6601674,
          1.857746,
          -0.9152838,
          -0.20110288,
          2.4216316,
          -0.0683284,
          4.0956893,
          -1.0618349,
          -1.6075239,
          -2.1433468,
          -1.7689694,
          1.5559185,
          0.88972765,
          0.9036483,
          0.3398648,
          1.6332961,
          3.1294615,
          -0.7675337,
          -2.1632454,
          2.29055,
          0.32507753,
          -3.0995822,
          3.0941546,
          1.6268886,
          -0.14684658,
          1.9118757,
          2.5299726,
          -1.577155,
          -0.9353083,
          -6.850019,
          1.9790224,
          3.9296317,
          0.8207897,
          3.2811706,
          -3.4383047,
          2.2308872,
          3.000509,
          0.6836421,
          2.9238505,
          -5.572267,
          -0.7922617,
          0.5859491,
          2.3637335,
          5.1195984,
          -1.7491176,
          0.9558131,
          0.835039,
          -1.9424224,
          -2.2113152,
          1.5372579,
          2.9674945,
          2.7377157,
          -2.0999517,
          -2.666772,
          2.9570463,
          1.060735,
          1.698084,
          2.2830613,
          0.9559535,
          2.1440141,
          2.6095326,
          -1.9737972,
          1.8916149,
          -0.17065056,
          -0.7768305,
          -0.6521742,
          -3.2430131,
          -0.5004708,
          -1.502905,
          2.266753,
          -4.382453,
          -1.6820154,
          0.17003722,
          1.0253015,
          -2.8504875,
          1.1158259,
          0.73766804,
          1.2013803,
          -1.2901555,
          -0.95479727,
          -0.6751425,
          0.99105906,
          1.9268285,
          -0.1999128,
          -1.1136864,
          0.64163196,
          3.9225426,
          -4.1405187,
          0.38673908,
          -2.9283097,
          1.2745206,
          1.0171113,
          0.97342396,
          5.274537,
          2.36841,
          -0.27592844,
          0.48364207,
          2.3751721,
          0.8612048,
          0.4241877,
          0.02865309,
          -0.49293223,
          -2.679344,
          -3.940257,
          1.8693855,
          5.374207,
          0.8042721,
          -0.44063407,
          0.08262137,
          1.8357091,
          2.0917444,
          -1.5340955,
          3.1624866,
          -1.7519937,
          -0.63640684,
          1.451189,
          -2.091551,
          -1.92278,
          3.1810305,
          -2.2091982,
          0.8182009,
          2.6321297,
          4.3294168,
          3.9886527,
          -5.9370112,
          -2.170674,
          -2.4354596,
          0.7280038,
          3.7722676,
          0.45588464,
          3.569896,
          -1.8036764,
          -1.4472569,
          -5.8001313,
          -2.0167298,
          6.4732904,
          0.6927057,
          -1.7763897,
          -5.177267,
          6.4971614,
          -2.1734612,
          -2.070627,
          -4.4473453,
          0.82325417,
          -1.777632,
          -5.384145,
          3.8695428,
          0.3820405,
          -2.503543,
          -3.306863,
          -0.36000887,
          -3.8838966,
          -1.1923133,
          1.9853302,
          -4.7704315,
          -0.9825899,
          2.4037921,
          0.39840248,
          -0.4431748,
          0.5827216,
          2.9080887,
          -1.870242,
          -1.8256941,
          -1.6139989,
          5.225498,
          -1.4819477,
          0.9757319,
          1.9890807,
          1.04973,
          0.071969815,
          0.7063472,
          4.446182,
          -1.0583707,
          -3.1500087,
          -3.403638,
          -0.71828145,
          -1.8638086,
          1.7704484,
          4.21659,
          0.88256925,
          1.4091616,
          2.117652,
          5.464512,
          -2.061559,
          -0.163171,
          -0.63421446,
          -1.571838,
          -2.239917,
          -0.28853866,
          1.6923841,
          0.25089517,
          1.450993,
          0.093729615,
          -0.47997183,
          0.4223058,
          -2.192262,
          1.3220588,
          1.3973793,
          1.2922442,
          -2.8766737,
          -2.9145973,
          -1.2984226,
          -1.8299557,
          1.4895256,
          1.5600047,
          -1.1084827,
          1.615211,
          3.0857704,
          -0.098181844,
          2.534965,
          3.9681478,
          -0.8515552,
          -1.3830452,
          4.276997,
          -4.2968554,
          -3.2122211,
          -0.24273463,
          -0.14888646,
          1.2843101,
          -1.2758363,
          2.7235465,
          1.3175279,
          -0.07591209,
          -2.6975763,
          4.6983,
          -3.0989664,
          -0.23575126,
          2.844832,
          -2.5617416,
          -1.33015,
          -3.9254725,
          0.3588757,
          5.459867,
          -3.6248639,
          2.063424,
          1.93098,
          1.9246051,
          0.53382283,
          0.54615486,
          0.15001376,
          -0.9395634,
          3.1897407,
          -3.2732697,
          1.3584913,
          1.2489793,
          -1.1559098,
          -1.0064355,
          -1.1050401,
          1.5035517,
          -3.8518064,
          -0.9859592,
          -3.609972,
          -2.065891,
          -1.1839967,
          4.5161037,
          0.82611245,
          1.6808147,
          -0.8167712,
          0.7232596,
          3.4022393,
          2.7332175,
          -0.7873921,
          2.2391188,
          -1.5564034,
          -0.9198976,
          0.5498265,
          -0.02452143,
          -1.3532828,
          -0.76088053,
          1.5481073,
          -5.529726,
          -1.4046657,
          3.4305508,
          3.4804385,
          -0.2103776,
          -3.897686,
          -2.5599506,
          -0.40943497,
          -1.6274872,
          2.4576585,
          4.586381,
          0.46561894,
          1.6987194,
          -0.5754946,
          2.3793597,
          -1.2067852,
          -3.5948527,
          0.365744,
          3.5922647,
          1.6490475,
          0.14557645,
          3.2317755,
          0.83010006,
          -1.8125437,
          1.8946291,
          -2.3111024,
          -2.4132364,
          2.7068617,
          1.3068037,
          0.24748926,
          -1.1711688,
          0.8535052,
          -3.8267407,
          0.93786913,
          -2.0256226,
          0.70993125,
          1.6823686,
          -2.7482097,
          -2.4538317,
          -1.911535,
          3.683088,
          1.035981,
          2.5093048,
          0.11961925,
          0.9692686,
          2.960299,
          -1.8882438,
          -2.1716418,
          0.71355855,
          -3.0766392,
          -7.1260786,
          0.6973091,
          4.123165,
          0.7021875,
          0.40332577,
          2.1369853,
          2.7095826,
          1.6687669,
          0.7966587,
          0.27291405,
          -1.3877839,
          1.3582413,
          -1.8172792,
          -4.2243166,
          -3.0971677,
          3.3893325,
          -1.7850997,
          1.014574,
          2.547279,
          -0.8856486,
          2.213638,
          2.6268842,
          -2.3492472,
          -7.106139,
          -1.0675907,
          -3.1290216,
          1.9860014,
          -0.9921619,
          0.17870277,
          -2.3472557,
          -2.7803447,
          -1.180765,
          1.406254,
          -2.204303,
          0.8247313,
          0.17321284,
          -0.49653056,
          -1.1560318,
          -0.93636274,
          3.6378622,
          3.0411968,
          0.2775726,
          4.9240594,
          0.39994127,
          -0.8734056,
          -2.7322114,
          2.7254605,
          -1.4523834,
          -3.328674,
          -0.4874291,
          -0.4185638,
          -0.4081023,
          0.400413,
          0.6171094,
          -2.726988,
          -1.6718088,
          2.2738533,
          1.5235078,
          -0.19137715,
          4.763553,
          2.3493457,
          -1.950313,
          -1.7734027,
          -2.2743092,
          -1.3367529,
          -1.3401251,
          -1.087236,
          1.2184658,
          -4.0544853,
          2.3579907,
          3.9162006,
          -1.1778846,
          0.013303262,
          -3.7114916,
          -1.5428371,
          0.22412272,
          0.39243746,
          2.1485646,
          -0.38768166,
          1.9252474,
          0.36701304,
          3.4412954,
          1.6047844,
          1.7286383,
          -1.1240261,
          0.0037892365,
          1.8593668,
          1.7092061,
          2.5540519,
          1.968967,
          0.26403755,
          -1.1842649,
          -4.2168126,
          -3.2588656,
          -0.8880924,
          2.0699246,
          -0.8390409,
          -6.7444654,
          2.4960616,
          0.6737305,
          -0.95669323
         ]
        }
       ],
       "layout": {
        "coloraxis": {
         "colorbar": {
          "title": {
           "text": "Anomaly"
          }
         },
         "colorscale": [
          [
           0,
           "#0d0887"
          ],
          [
           0.1111111111111111,
           "#46039f"
          ],
          [
           0.2222222222222222,
           "#7201a8"
          ],
          [
           0.3333333333333333,
           "#9c179e"
          ],
          [
           0.4444444444444444,
           "#bd3786"
          ],
          [
           0.5555555555555556,
           "#d8576b"
          ],
          [
           0.6666666666666666,
           "#ed7953"
          ],
          [
           0.7777777777777778,
           "#fb9f3a"
          ],
          [
           0.8888888888888888,
           "#fdca26"
          ],
          [
           1,
           "#f0f921"
          ]
         ]
        },
        "height": 800,
        "legend": {
         "tracegroupgap": 0
        },
        "scene": {
         "domain": {
          "x": [
           0,
           1
          ],
          "y": [
           0,
           1
          ]
         },
         "xaxis": {
          "title": {
           "text": "0"
          }
         },
         "yaxis": {
          "title": {
           "text": "1"
          }
         },
         "zaxis": {
          "title": {
           "text": "2"
          }
         }
        },
        "template": {
         "data": {
          "bar": [
           {
            "error_x": {
             "color": "#2a3f5f"
            },
            "error_y": {
             "color": "#2a3f5f"
            },
            "marker": {
             "line": {
              "color": "#E5ECF6",
              "width": 0.5
             },
             "pattern": {
              "fillmode": "overlay",
              "size": 10,
              "solidity": 0.2
             }
            },
            "type": "bar"
           }
          ],
          "barpolar": [
           {
            "marker": {
             "line": {
              "color": "#E5ECF6",
              "width": 0.5
             },
             "pattern": {
              "fillmode": "overlay",
              "size": 10,
              "solidity": 0.2
             }
            },
            "type": "barpolar"
           }
          ],
          "carpet": [
           {
            "aaxis": {
             "endlinecolor": "#2a3f5f",
             "gridcolor": "white",
             "linecolor": "white",
             "minorgridcolor": "white",
             "startlinecolor": "#2a3f5f"
            },
            "baxis": {
             "endlinecolor": "#2a3f5f",
             "gridcolor": "white",
             "linecolor": "white",
             "minorgridcolor": "white",
             "startlinecolor": "#2a3f5f"
            },
            "type": "carpet"
           }
          ],
          "choropleth": [
           {
            "colorbar": {
             "outlinewidth": 0,
             "ticks": ""
            },
            "type": "choropleth"
           }
          ],
          "contour": [
           {
            "colorbar": {
             "outlinewidth": 0,
             "ticks": ""
            },
            "colorscale": [
             [
              0,
              "#0d0887"
             ],
             [
              0.1111111111111111,
              "#46039f"
             ],
             [
              0.2222222222222222,
              "#7201a8"
             ],
             [
              0.3333333333333333,
              "#9c179e"
             ],
             [
              0.4444444444444444,
              "#bd3786"
             ],
             [
              0.5555555555555556,
              "#d8576b"
             ],
             [
              0.6666666666666666,
              "#ed7953"
             ],
             [
              0.7777777777777778,
              "#fb9f3a"
             ],
             [
              0.8888888888888888,
              "#fdca26"
             ],
             [
              1,
              "#f0f921"
             ]
            ],
            "type": "contour"
           }
          ],
          "contourcarpet": [
           {
            "colorbar": {
             "outlinewidth": 0,
             "ticks": ""
            },
            "type": "contourcarpet"
           }
          ],
          "heatmap": [
           {
            "colorbar": {
             "outlinewidth": 0,
             "ticks": ""
            },
            "colorscale": [
             [
              0,
              "#0d0887"
             ],
             [
              0.1111111111111111,
              "#46039f"
             ],
             [
              0.2222222222222222,
              "#7201a8"
             ],
             [
              0.3333333333333333,
              "#9c179e"
             ],
             [
              0.4444444444444444,
              "#bd3786"
             ],
             [
              0.5555555555555556,
              "#d8576b"
             ],
             [
              0.6666666666666666,
              "#ed7953"
             ],
             [
              0.7777777777777778,
              "#fb9f3a"
             ],
             [
              0.8888888888888888,
              "#fdca26"
             ],
             [
              1,
              "#f0f921"
             ]
            ],
            "type": "heatmap"
           }
          ],
          "heatmapgl": [
           {
            "colorbar": {
             "outlinewidth": 0,
             "ticks": ""
            },
            "colorscale": [
             [
              0,
              "#0d0887"
             ],
             [
              0.1111111111111111,
              "#46039f"
             ],
             [
              0.2222222222222222,
              "#7201a8"
             ],
             [
              0.3333333333333333,
              "#9c179e"
             ],
             [
              0.4444444444444444,
              "#bd3786"
             ],
             [
              0.5555555555555556,
              "#d8576b"
             ],
             [
              0.6666666666666666,
              "#ed7953"
             ],
             [
              0.7777777777777778,
              "#fb9f3a"
             ],
             [
              0.8888888888888888,
              "#fdca26"
             ],
             [
              1,
              "#f0f921"
             ]
            ],
            "type": "heatmapgl"
           }
          ],
          "histogram": [
           {
            "marker": {
             "pattern": {
              "fillmode": "overlay",
              "size": 10,
              "solidity": 0.2
             }
            },
            "type": "histogram"
           }
          ],
          "histogram2d": [
           {
            "colorbar": {
             "outlinewidth": 0,
             "ticks": ""
            },
            "colorscale": [
             [
              0,
              "#0d0887"
             ],
             [
              0.1111111111111111,
              "#46039f"
             ],
             [
              0.2222222222222222,
              "#7201a8"
             ],
             [
              0.3333333333333333,
              "#9c179e"
             ],
             [
              0.4444444444444444,
              "#bd3786"
             ],
             [
              0.5555555555555556,
              "#d8576b"
             ],
             [
              0.6666666666666666,
              "#ed7953"
             ],
             [
              0.7777777777777778,
              "#fb9f3a"
             ],
             [
              0.8888888888888888,
              "#fdca26"
             ],
             [
              1,
              "#f0f921"
             ]
            ],
            "type": "histogram2d"
           }
          ],
          "histogram2dcontour": [
           {
            "colorbar": {
             "outlinewidth": 0,
             "ticks": ""
            },
            "colorscale": [
             [
              0,
              "#0d0887"
             ],
             [
              0.1111111111111111,
              "#46039f"
             ],
             [
              0.2222222222222222,
              "#7201a8"
             ],
             [
              0.3333333333333333,
              "#9c179e"
             ],
             [
              0.4444444444444444,
              "#bd3786"
             ],
             [
              0.5555555555555556,
              "#d8576b"
             ],
             [
              0.6666666666666666,
              "#ed7953"
             ],
             [
              0.7777777777777778,
              "#fb9f3a"
             ],
             [
              0.8888888888888888,
              "#fdca26"
             ],
             [
              1,
              "#f0f921"
             ]
            ],
            "type": "histogram2dcontour"
           }
          ],
          "mesh3d": [
           {
            "colorbar": {
             "outlinewidth": 0,
             "ticks": ""
            },
            "type": "mesh3d"
           }
          ],
          "parcoords": [
           {
            "line": {
             "colorbar": {
              "outlinewidth": 0,
              "ticks": ""
             }
            },
            "type": "parcoords"
           }
          ],
          "pie": [
           {
            "automargin": true,
            "type": "pie"
           }
          ],
          "scatter": [
           {
            "fillpattern": {
             "fillmode": "overlay",
             "size": 10,
             "solidity": 0.2
            },
            "type": "scatter"
           }
          ],
          "scatter3d": [
           {
            "line": {
             "colorbar": {
              "outlinewidth": 0,
              "ticks": ""
             }
            },
            "marker": {
             "colorbar": {
              "outlinewidth": 0,
              "ticks": ""
             }
            },
            "type": "scatter3d"
           }
          ],
          "scattercarpet": [
           {
            "marker": {
             "colorbar": {
              "outlinewidth": 0,
              "ticks": ""
             }
            },
            "type": "scattercarpet"
           }
          ],
          "scattergeo": [
           {
            "marker": {
             "colorbar": {
              "outlinewidth": 0,
              "ticks": ""
             }
            },
            "type": "scattergeo"
           }
          ],
          "scattergl": [
           {
            "marker": {
             "colorbar": {
              "outlinewidth": 0,
              "ticks": ""
             }
            },
            "type": "scattergl"
           }
          ],
          "scattermapbox": [
           {
            "marker": {
             "colorbar": {
              "outlinewidth": 0,
              "ticks": ""
             }
            },
            "type": "scattermapbox"
           }
          ],
          "scatterpolar": [
           {
            "marker": {
             "colorbar": {
              "outlinewidth": 0,
              "ticks": ""
             }
            },
            "type": "scatterpolar"
           }
          ],
          "scatterpolargl": [
           {
            "marker": {
             "colorbar": {
              "outlinewidth": 0,
              "ticks": ""
             }
            },
            "type": "scatterpolargl"
           }
          ],
          "scatterternary": [
           {
            "marker": {
             "colorbar": {
              "outlinewidth": 0,
              "ticks": ""
             }
            },
            "type": "scatterternary"
           }
          ],
          "surface": [
           {
            "colorbar": {
             "outlinewidth": 0,
             "ticks": ""
            },
            "colorscale": [
             [
              0,
              "#0d0887"
             ],
             [
              0.1111111111111111,
              "#46039f"
             ],
             [
              0.2222222222222222,
              "#7201a8"
             ],
             [
              0.3333333333333333,
              "#9c179e"
             ],
             [
              0.4444444444444444,
              "#bd3786"
             ],
             [
              0.5555555555555556,
              "#d8576b"
             ],
             [
              0.6666666666666666,
              "#ed7953"
             ],
             [
              0.7777777777777778,
              "#fb9f3a"
             ],
             [
              0.8888888888888888,
              "#fdca26"
             ],
             [
              1,
              "#f0f921"
             ]
            ],
            "type": "surface"
           }
          ],
          "table": [
           {
            "cells": {
             "fill": {
              "color": "#EBF0F8"
             },
             "line": {
              "color": "white"
             }
            },
            "header": {
             "fill": {
              "color": "#C8D4E3"
             },
             "line": {
              "color": "white"
             }
            },
            "type": "table"
           }
          ]
         },
         "layout": {
          "annotationdefaults": {
           "arrowcolor": "#2a3f5f",
           "arrowhead": 0,
           "arrowwidth": 1
          },
          "autotypenumbers": "strict",
          "coloraxis": {
           "colorbar": {
            "outlinewidth": 0,
            "ticks": ""
           }
          },
          "colorscale": {
           "diverging": [
            [
             0,
             "#8e0152"
            ],
            [
             0.1,
             "#c51b7d"
            ],
            [
             0.2,
             "#de77ae"
            ],
            [
             0.3,
             "#f1b6da"
            ],
            [
             0.4,
             "#fde0ef"
            ],
            [
             0.5,
             "#f7f7f7"
            ],
            [
             0.6,
             "#e6f5d0"
            ],
            [
             0.7,
             "#b8e186"
            ],
            [
             0.8,
             "#7fbc41"
            ],
            [
             0.9,
             "#4d9221"
            ],
            [
             1,
             "#276419"
            ]
           ],
           "sequential": [
            [
             0,
             "#0d0887"
            ],
            [
             0.1111111111111111,
             "#46039f"
            ],
            [
             0.2222222222222222,
             "#7201a8"
            ],
            [
             0.3333333333333333,
             "#9c179e"
            ],
            [
             0.4444444444444444,
             "#bd3786"
            ],
            [
             0.5555555555555556,
             "#d8576b"
            ],
            [
             0.6666666666666666,
             "#ed7953"
            ],
            [
             0.7777777777777778,
             "#fb9f3a"
            ],
            [
             0.8888888888888888,
             "#fdca26"
            ],
            [
             1,
             "#f0f921"
            ]
           ],
           "sequentialminus": [
            [
             0,
             "#0d0887"
            ],
            [
             0.1111111111111111,
             "#46039f"
            ],
            [
             0.2222222222222222,
             "#7201a8"
            ],
            [
             0.3333333333333333,
             "#9c179e"
            ],
            [
             0.4444444444444444,
             "#bd3786"
            ],
            [
             0.5555555555555556,
             "#d8576b"
            ],
            [
             0.6666666666666666,
             "#ed7953"
            ],
            [
             0.7777777777777778,
             "#fb9f3a"
            ],
            [
             0.8888888888888888,
             "#fdca26"
            ],
            [
             1,
             "#f0f921"
            ]
           ]
          },
          "colorway": [
           "#636efa",
           "#EF553B",
           "#00cc96",
           "#ab63fa",
           "#FFA15A",
           "#19d3f3",
           "#FF6692",
           "#B6E880",
           "#FF97FF",
           "#FECB52"
          ],
          "font": {
           "color": "#2a3f5f"
          },
          "geo": {
           "bgcolor": "white",
           "lakecolor": "white",
           "landcolor": "#E5ECF6",
           "showlakes": true,
           "showland": true,
           "subunitcolor": "white"
          },
          "hoverlabel": {
           "align": "left"
          },
          "hovermode": "closest",
          "mapbox": {
           "style": "light"
          },
          "paper_bgcolor": "white",
          "plot_bgcolor": "#E5ECF6",
          "polar": {
           "angularaxis": {
            "gridcolor": "white",
            "linecolor": "white",
            "ticks": ""
           },
           "bgcolor": "#E5ECF6",
           "radialaxis": {
            "gridcolor": "white",
            "linecolor": "white",
            "ticks": ""
           }
          },
          "scene": {
           "xaxis": {
            "backgroundcolor": "#E5ECF6",
            "gridcolor": "white",
            "gridwidth": 2,
            "linecolor": "white",
            "showbackground": true,
            "ticks": "",
            "zerolinecolor": "white"
           },
           "yaxis": {
            "backgroundcolor": "#E5ECF6",
            "gridcolor": "white",
            "gridwidth": 2,
            "linecolor": "white",
            "showbackground": true,
            "ticks": "",
            "zerolinecolor": "white"
           },
           "zaxis": {
            "backgroundcolor": "#E5ECF6",
            "gridcolor": "white",
            "gridwidth": 2,
            "linecolor": "white",
            "showbackground": true,
            "ticks": "",
            "zerolinecolor": "white"
           }
          },
          "shapedefaults": {
           "line": {
            "color": "#2a3f5f"
           }
          },
          "ternary": {
           "aaxis": {
            "gridcolor": "white",
            "linecolor": "white",
            "ticks": ""
           },
           "baxis": {
            "gridcolor": "white",
            "linecolor": "white",
            "ticks": ""
           },
           "bgcolor": "#E5ECF6",
           "caxis": {
            "gridcolor": "white",
            "linecolor": "white",
            "ticks": ""
           }
          },
          "title": {
           "x": 0.05
          },
          "xaxis": {
           "automargin": true,
           "gridcolor": "white",
           "linecolor": "white",
           "ticks": "",
           "title": {
            "standoff": 15
           },
           "zerolinecolor": "white",
           "zerolinewidth": 2
          },
          "yaxis": {
           "automargin": true,
           "gridcolor": "white",
           "linecolor": "white",
           "ticks": "",
           "title": {
            "standoff": 15
           },
           "zerolinecolor": "white",
           "zerolinewidth": 2
          }
         }
        },
        "title": {
         "text": "3d TSNE Plot for Outliers"
        },
        "width": 900
       }
      }
     },
     "metadata": {},
     "output_type": "display_data"
    }
   ],
   "source": [
    "# functional API\n",
    "plot_model(iforest, plot = 'tsne')"
   ]
  },
  {
   "cell_type": "markdown",
   "metadata": {},
   "source": [
    "## Assign Model"
   ]
  },
  {
   "cell_type": "markdown",
   "metadata": {},
   "source": [
    "assign_model() 的功能是：\n",
    "\n",
    "把「模型偵測出來的結果」附加回原始資料集，包含每筆資料的「是否為異常（Anomaly）」與「異常分數（Anomaly_Score）」，這樣你可以觀察哪幾筆被標記為異常。"
   ]
  },
  {
   "cell_type": "code",
   "execution_count": 6,
   "metadata": {},
   "outputs": [
    {
     "data": {
      "text/html": [
       "<div>\n",
       "<style scoped>\n",
       "    .dataframe tbody tr th:only-of-type {\n",
       "        vertical-align: middle;\n",
       "    }\n",
       "\n",
       "    .dataframe tbody tr th {\n",
       "        vertical-align: top;\n",
       "    }\n",
       "\n",
       "    .dataframe thead th {\n",
       "        text-align: right;\n",
       "    }\n",
       "</style>\n",
       "<table border=\"1\" class=\"dataframe\">\n",
       "  <thead>\n",
       "    <tr style=\"text-align: right;\">\n",
       "      <th></th>\n",
       "      <th>Col1</th>\n",
       "      <th>Col2</th>\n",
       "      <th>Col3</th>\n",
       "      <th>Col4</th>\n",
       "      <th>Col5</th>\n",
       "      <th>Col6</th>\n",
       "      <th>Col7</th>\n",
       "      <th>Col8</th>\n",
       "      <th>Col9</th>\n",
       "      <th>Col10</th>\n",
       "      <th>Anomaly</th>\n",
       "      <th>Anomaly_Score</th>\n",
       "    </tr>\n",
       "  </thead>\n",
       "  <tbody>\n",
       "    <tr>\n",
       "      <th>0</th>\n",
       "      <td>0.263995</td>\n",
       "      <td>0.764929</td>\n",
       "      <td>0.138424</td>\n",
       "      <td>0.935242</td>\n",
       "      <td>0.605867</td>\n",
       "      <td>0.518790</td>\n",
       "      <td>0.912225</td>\n",
       "      <td>0.608234</td>\n",
       "      <td>0.723782</td>\n",
       "      <td>0.733591</td>\n",
       "      <td>0</td>\n",
       "      <td>-0.035865</td>\n",
       "    </tr>\n",
       "    <tr>\n",
       "      <th>1</th>\n",
       "      <td>0.546092</td>\n",
       "      <td>0.653975</td>\n",
       "      <td>0.065575</td>\n",
       "      <td>0.227772</td>\n",
       "      <td>0.845269</td>\n",
       "      <td>0.837066</td>\n",
       "      <td>0.272379</td>\n",
       "      <td>0.331679</td>\n",
       "      <td>0.429297</td>\n",
       "      <td>0.367422</td>\n",
       "      <td>0</td>\n",
       "      <td>-0.084927</td>\n",
       "    </tr>\n",
       "    <tr>\n",
       "      <th>2</th>\n",
       "      <td>0.336714</td>\n",
       "      <td>0.538842</td>\n",
       "      <td>0.192801</td>\n",
       "      <td>0.553563</td>\n",
       "      <td>0.074515</td>\n",
       "      <td>0.332993</td>\n",
       "      <td>0.365792</td>\n",
       "      <td>0.861309</td>\n",
       "      <td>0.899017</td>\n",
       "      <td>0.088600</td>\n",
       "      <td>1</td>\n",
       "      <td>0.025356</td>\n",
       "    </tr>\n",
       "    <tr>\n",
       "      <th>3</th>\n",
       "      <td>0.092108</td>\n",
       "      <td>0.995017</td>\n",
       "      <td>0.014465</td>\n",
       "      <td>0.176371</td>\n",
       "      <td>0.241530</td>\n",
       "      <td>0.514724</td>\n",
       "      <td>0.562208</td>\n",
       "      <td>0.158963</td>\n",
       "      <td>0.073715</td>\n",
       "      <td>0.208463</td>\n",
       "      <td>1</td>\n",
       "      <td>0.042415</td>\n",
       "    </tr>\n",
       "    <tr>\n",
       "      <th>4</th>\n",
       "      <td>0.325261</td>\n",
       "      <td>0.805968</td>\n",
       "      <td>0.957033</td>\n",
       "      <td>0.331665</td>\n",
       "      <td>0.307923</td>\n",
       "      <td>0.355315</td>\n",
       "      <td>0.501899</td>\n",
       "      <td>0.558449</td>\n",
       "      <td>0.885169</td>\n",
       "      <td>0.182754</td>\n",
       "      <td>0</td>\n",
       "      <td>-0.023408</td>\n",
       "    </tr>\n",
       "  </tbody>\n",
       "</table>\n",
       "</div>"
      ],
      "text/plain": [
       "       Col1      Col2      Col3      Col4      Col5      Col6      Col7  \\\n",
       "0  0.263995  0.764929  0.138424  0.935242  0.605867  0.518790  0.912225   \n",
       "1  0.546092  0.653975  0.065575  0.227772  0.845269  0.837066  0.272379   \n",
       "2  0.336714  0.538842  0.192801  0.553563  0.074515  0.332993  0.365792   \n",
       "3  0.092108  0.995017  0.014465  0.176371  0.241530  0.514724  0.562208   \n",
       "4  0.325261  0.805968  0.957033  0.331665  0.307923  0.355315  0.501899   \n",
       "\n",
       "       Col8      Col9     Col10  Anomaly  Anomaly_Score  \n",
       "0  0.608234  0.723782  0.733591        0      -0.035865  \n",
       "1  0.331679  0.429297  0.367422        0      -0.084927  \n",
       "2  0.861309  0.899017  0.088600        1       0.025356  \n",
       "3  0.158963  0.073715  0.208463        1       0.042415  \n",
       "4  0.558449  0.885169  0.182754        0      -0.023408  "
      ]
     },
     "execution_count": 6,
     "metadata": {},
     "output_type": "execute_result"
    }
   ],
   "source": [
    "# functional API\n",
    "result = assign_model(iforest)\n",
    "result.head()"
   ]
  },
  {
   "cell_type": "markdown",
   "metadata": {},
   "source": [
    "## Predictions"
   ]
  },
  {
   "cell_type": "code",
   "execution_count": 7,
   "metadata": {},
   "outputs": [
    {
     "data": {
      "text/html": [
       "<div>\n",
       "<style scoped>\n",
       "    .dataframe tbody tr th:only-of-type {\n",
       "        vertical-align: middle;\n",
       "    }\n",
       "\n",
       "    .dataframe tbody tr th {\n",
       "        vertical-align: top;\n",
       "    }\n",
       "\n",
       "    .dataframe thead th {\n",
       "        text-align: right;\n",
       "    }\n",
       "</style>\n",
       "<table border=\"1\" class=\"dataframe\">\n",
       "  <thead>\n",
       "    <tr style=\"text-align: right;\">\n",
       "      <th></th>\n",
       "      <th>Col1</th>\n",
       "      <th>Col2</th>\n",
       "      <th>Col3</th>\n",
       "      <th>Col4</th>\n",
       "      <th>Col5</th>\n",
       "      <th>Col6</th>\n",
       "      <th>Col7</th>\n",
       "      <th>Col8</th>\n",
       "      <th>Col9</th>\n",
       "      <th>Col10</th>\n",
       "      <th>Anomaly</th>\n",
       "      <th>Anomaly_Score</th>\n",
       "    </tr>\n",
       "  </thead>\n",
       "  <tbody>\n",
       "    <tr>\n",
       "      <th>0</th>\n",
       "      <td>0.263995</td>\n",
       "      <td>0.764929</td>\n",
       "      <td>0.138424</td>\n",
       "      <td>0.935242</td>\n",
       "      <td>0.605867</td>\n",
       "      <td>0.518790</td>\n",
       "      <td>0.912225</td>\n",
       "      <td>0.608234</td>\n",
       "      <td>0.723782</td>\n",
       "      <td>0.733591</td>\n",
       "      <td>0</td>\n",
       "      <td>-0.035865</td>\n",
       "    </tr>\n",
       "    <tr>\n",
       "      <th>1</th>\n",
       "      <td>0.546092</td>\n",
       "      <td>0.653975</td>\n",
       "      <td>0.065575</td>\n",
       "      <td>0.227772</td>\n",
       "      <td>0.845269</td>\n",
       "      <td>0.837066</td>\n",
       "      <td>0.272379</td>\n",
       "      <td>0.331679</td>\n",
       "      <td>0.429297</td>\n",
       "      <td>0.367422</td>\n",
       "      <td>0</td>\n",
       "      <td>-0.084927</td>\n",
       "    </tr>\n",
       "    <tr>\n",
       "      <th>2</th>\n",
       "      <td>0.336714</td>\n",
       "      <td>0.538842</td>\n",
       "      <td>0.192801</td>\n",
       "      <td>0.553563</td>\n",
       "      <td>0.074515</td>\n",
       "      <td>0.332993</td>\n",
       "      <td>0.365792</td>\n",
       "      <td>0.861309</td>\n",
       "      <td>0.899017</td>\n",
       "      <td>0.088600</td>\n",
       "      <td>1</td>\n",
       "      <td>0.025356</td>\n",
       "    </tr>\n",
       "    <tr>\n",
       "      <th>3</th>\n",
       "      <td>0.092108</td>\n",
       "      <td>0.995017</td>\n",
       "      <td>0.014465</td>\n",
       "      <td>0.176371</td>\n",
       "      <td>0.241530</td>\n",
       "      <td>0.514724</td>\n",
       "      <td>0.562208</td>\n",
       "      <td>0.158963</td>\n",
       "      <td>0.073715</td>\n",
       "      <td>0.208463</td>\n",
       "      <td>1</td>\n",
       "      <td>0.042415</td>\n",
       "    </tr>\n",
       "    <tr>\n",
       "      <th>4</th>\n",
       "      <td>0.325261</td>\n",
       "      <td>0.805968</td>\n",
       "      <td>0.957033</td>\n",
       "      <td>0.331665</td>\n",
       "      <td>0.307923</td>\n",
       "      <td>0.355315</td>\n",
       "      <td>0.501899</td>\n",
       "      <td>0.558449</td>\n",
       "      <td>0.885169</td>\n",
       "      <td>0.182754</td>\n",
       "      <td>0</td>\n",
       "      <td>-0.023408</td>\n",
       "    </tr>\n",
       "  </tbody>\n",
       "</table>\n",
       "</div>"
      ],
      "text/plain": [
       "       Col1      Col2      Col3      Col4      Col5      Col6      Col7  \\\n",
       "0  0.263995  0.764929  0.138424  0.935242  0.605867  0.518790  0.912225   \n",
       "1  0.546092  0.653975  0.065575  0.227772  0.845269  0.837066  0.272379   \n",
       "2  0.336714  0.538842  0.192801  0.553563  0.074515  0.332993  0.365792   \n",
       "3  0.092108  0.995017  0.014465  0.176371  0.241530  0.514724  0.562208   \n",
       "4  0.325261  0.805968  0.957033  0.331665  0.307923  0.355315  0.501899   \n",
       "\n",
       "       Col8      Col9     Col10  Anomaly  Anomaly_Score  \n",
       "0  0.608234  0.723782  0.733591        0      -0.035865  \n",
       "1  0.331679  0.429297  0.367422        0      -0.084927  \n",
       "2  0.861309  0.899017  0.088600        1       0.025356  \n",
       "3  0.158963  0.073715  0.208463        1       0.042415  \n",
       "4  0.558449  0.885169  0.182754        0      -0.023408  "
      ]
     },
     "execution_count": 7,
     "metadata": {},
     "output_type": "execute_result"
    }
   ],
   "source": [
    "# functional API\n",
    "predictions = predict_model(iforest, data = data)\n",
    "predictions.head()"
   ]
  },
  {
   "cell_type": "markdown",
   "metadata": {},
   "source": [
    "## Save the model"
   ]
  },
  {
   "cell_type": "code",
   "execution_count": 8,
   "metadata": {},
   "outputs": [
    {
     "name": "stdout",
     "output_type": "stream",
     "text": [
      "Transformation Pipeline and Model Successfully Saved\n"
     ]
    },
    {
     "data": {
      "text/plain": [
       "(Pipeline(memory=Memory(location=None),\n",
       "          steps=[('numerical_imputer',\n",
       "                  TransformerWrapper(include=['Col1', 'Col2', 'Col3', 'Col4',\n",
       "                                              'Col5', 'Col6', 'Col7', 'Col8',\n",
       "                                              'Col9', 'Col10'],\n",
       "                                     transformer=SimpleImputer())),\n",
       "                 ('categorical_imputer',\n",
       "                  TransformerWrapper(include=[],\n",
       "                                     transformer=SimpleImputer(strategy='most_frequent'))),\n",
       "                 ('trained_model',\n",
       "                  IForest(behaviour='new', bootstrap=False, contamination=0.05,\n",
       "     max_features=1.0, max_samples='auto', n_estimators=100, n_jobs=-1,\n",
       "     random_state=123, verbose=0))]),\n",
       " 'best_model_anomaly.pkl')"
      ]
     },
     "execution_count": 8,
     "metadata": {},
     "output_type": "execute_result"
    }
   ],
   "source": [
    "# functional API\n",
    "save_model(iforest, 'best_model_anomaly')"
   ]
  },
  {
   "cell_type": "markdown",
   "metadata": {},
   "source": [
    "## To load the model back in the environment"
   ]
  },
  {
   "cell_type": "code",
   "execution_count": 9,
   "metadata": {},
   "outputs": [
    {
     "name": "stdout",
     "output_type": "stream",
     "text": [
      "Transformation Pipeline and Model Successfully Loaded\n",
      "Pipeline(memory=FastMemory(location=/var/folders/ty/th__2_pn1js9hzn2y7l830wr0000gn/T/joblib),\n",
      "         steps=[('numerical_imputer',\n",
      "                 TransformerWrapper(include=['Col1', 'Col2', 'Col3', 'Col4',\n",
      "                                             'Col5', 'Col6', 'Col7', 'Col8',\n",
      "                                             'Col9', 'Col10'],\n",
      "                                    transformer=SimpleImputer())),\n",
      "                ('categorical_imputer',\n",
      "                 TransformerWrapper(include=[],\n",
      "                                    transformer=SimpleImputer(strategy='most_frequent'))),\n",
      "                ('trained_model',\n",
      "                 IForest(behaviour='new', bootstrap=False, contamination=0.05,\n",
      "    max_features=1.0, max_samples='auto', n_estimators=100, n_jobs=-1,\n",
      "    random_state=123, verbose=0))])\n"
     ]
    }
   ],
   "source": [
    "# functional API\n",
    "loaded_model = load_model('best_model_anomaly')\n",
    "print(loaded_model)"
   ]
  }
 ],
 "metadata": {
  "kernelspec": {
   "display_name": "ml_env",
   "language": "python",
   "name": "python3"
  },
  "language_info": {
   "codemirror_mode": {
    "name": "ipython",
    "version": 3
   },
   "file_extension": ".py",
   "mimetype": "text/x-python",
   "name": "python",
   "nbconvert_exporter": "python",
   "pygments_lexer": "ipython3",
   "version": "3.10.16"
  }
 },
 "nbformat": 4,
 "nbformat_minor": 2
}
