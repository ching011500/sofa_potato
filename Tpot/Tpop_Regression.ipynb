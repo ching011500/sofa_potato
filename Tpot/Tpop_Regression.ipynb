{
 "cells": [
  {
   "cell_type": "markdown",
   "metadata": {},
   "source": [
    "# Regression Problem"
   ]
  },
  {
   "cell_type": "code",
   "execution_count": 3,
   "metadata": {},
   "outputs": [
    {
     "name": "stderr",
     "output_type": "stream",
     "text": [
      "Generation: 100%|██████████| 5/5 [43:46<00:00, 525.39s/it]\n"
     ]
    },
    {
     "name": "stdout",
     "output_type": "stream",
     "text": [
      "MAE: 0.3217886180142397\n"
     ]
    }
   ],
   "source": [
    "import warnings\n",
    "warnings.filterwarnings(\"ignore\")\n",
    "from sklearn.datasets import fetch_california_housing\n",
    "from sklearn.model_selection import train_test_split\n",
    "from sklearn.metrics import mean_absolute_error\n",
    "from tpot import TPOTRegressor\n",
    "\n",
    "# 1. 載入加州房價資料\n",
    "data = fetch_california_housing()\n",
    "X, y = data.data, data.target\n",
    "X_train, X_test, y_train, y_test = train_test_split(X, y, test_size=0.2, random_state=42)\n",
    "\n",
    "# 2. 建立 TPOT 回歸器（注意：不要用 n_jobs=-1，避免 Dask 問題）\n",
    "tpot = TPOTRegressor(\n",
    "    generations=5,\n",
    "    population_size=10,\n",
    "    verbose=2,\n",
    "    random_state=42\n",
    ")\n",
    "tpot.fit(X_train, y_train)\n",
    "\n",
    "# 3. 預測與評估\n",
    "y_pred = tpot.predict(X_test)\n",
    "print(\"MAE:\", mean_absolute_error(y_test, y_pred))\n",
    "\n",
    "# 4. 匯出 pipeline 程式碼\n",
    "with open(\"tpot_california_housing_pipeline.py\", \"w\") as f:\n",
    "    f.write(str(tpot.fitted_pipeline_))"
   ]
  }
 ],
 "metadata": {
  "kernelspec": {
   "display_name": "ml_env",
   "language": "python",
   "name": "python3"
  },
  "language_info": {
   "codemirror_mode": {
    "name": "ipython",
    "version": 3
   },
   "file_extension": ".py",
   "mimetype": "text/x-python",
   "name": "python",
   "nbconvert_exporter": "python",
   "pygments_lexer": "ipython3",
   "version": "3.10.16"
  }
 },
 "nbformat": 4,
 "nbformat_minor": 2
}
