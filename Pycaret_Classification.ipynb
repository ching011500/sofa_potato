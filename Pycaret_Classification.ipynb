{
  "nbformat": 4,
  "nbformat_minor": 0,
  "metadata": {
    "colab": {
      "provenance": [],
      "authorship_tag": "ABX9TyO5kzA3hcc1JwhFjr4o8rkf",
      "include_colab_link": true
    },
    "kernelspec": {
      "name": "python3",
      "display_name": "Python 3"
    },
    "language_info": {
      "name": "python"
    }
  },
  "cells": [
    {
      "cell_type": "markdown",
      "metadata": {
        "id": "view-in-github",
        "colab_type": "text"
      },
      "source": [
        "<a href=\"https://colab.research.google.com/github/ching011500/sofa_potato/blob/main/Pycaret_Classification.ipynb\" target=\"_parent\"><img src=\"https://colab.research.google.com/assets/colab-badge.svg\" alt=\"Open In Colab\"/></a>"
      ]
    },
    {
      "cell_type": "markdown",
      "source": [
        "## install Pycaret"
      ],
      "metadata": {
        "id": "eJQyRFR_8fWT"
      }
    },
    {
      "cell_type": "code",
      "source": [
        "!pip install pycaret"
      ],
      "metadata": {
        "id": "JVwD_C-T4sf0",
        "collapsed": true
      },
      "execution_count": null,
      "outputs": []
    },
    {
      "cell_type": "markdown",
      "source": [
        "## load sample dataset"
      ],
      "metadata": {
        "id": "GLvu8zlg8eqi"
      }
    },
    {
      "cell_type": "code",
      "source": [
        "from pycaret.datasets import get_data\n",
        "data = get_data('diabetes')"
      ],
      "metadata": {
        "id": "e7fWxK4c9LhZ"
      },
      "execution_count": null,
      "outputs": []
    },
    {
      "cell_type": "markdown",
      "source": [
        " ## Functional API（函式式寫法）"
      ],
      "metadata": {
        "id": "uKTxplGY_Pqn"
      }
    },
    {
      "cell_type": "code",
      "source": [
        "from pycaret.classification import *\n",
        "s = setup(data, target = 'Class variable', session_id = 123)"
      ],
      "metadata": {
        "id": "vgVnQgPJ_PMT"
      },
      "execution_count": null,
      "outputs": []
    },
    {
      "cell_type": "markdown",
      "source": [
        "## 📊 PyCaret `setup()` 回傳的設定摘要解釋\n",
        "\n",
        "這是 PyCaret 在執行 `setup()` 之後顯示的設定表，幫助我們快速了解資料前處理和建模流程設定如下：\n",
        "\n",
        "| 編號 | 說明 (Description) | 值 (Value) | 詳細解釋 |\n",
        "|------|----------------------|-------------|-----------|\n",
        "| 0 | Session id | 123 | 隨機種子，用來確保結果「可重現」。每次使用同樣的數字，交叉驗證分法都一樣。 |\n",
        "| 1 | Target | Class variable | 你指定的目標變數名稱（要預測的欄位）。 |\n",
        "| 2 | Target type | Binary | 類型為二元分類（Binary Classification），例如 0/1、是/否。 |\n",
        "| 3 | Original data shape | (768, 9) | 原始資料共有 768 筆資料，9 個欄位（包含目標變數）。 |\n",
        "| 4 | Transformed data shape | (768, 9) | 前處理後的資料維度。這裡大小沒變，表示資料已經很乾淨。 |\n",
        "| 5 | Transformed train set shape | (537, 9) | 訓練資料筆數（70%）：537 筆資料。 |\n",
        "| 6 | Transformed test set shape | (231, 9) | 測試資料筆數（30%）：231 筆資料。 |\n",
        "| 7 | Numeric features | 8 | 數值型欄位有 8 個（剩下 1 個是目標變數）。 |\n",
        "| 8 | Preprocess | True | PyCaret 有啟用前處理（補缺值、標準化、編碼等）。 |\n",
        "| 9 | Imputation type | simple | 缺失值補值策略：使用簡單補法（Simple Imputation）。 |\n",
        "| 10 | Numeric imputation | mean | 數值型欄位缺失值補平均值。 |\n",
        "| 11 | Categorical imputation | mode | 類別欄位缺失值補眾數（最常出現的類別）。 |\n",
        "| 12 | Fold Generator | StratifiedKFold | 使用 Stratified K-Fold（分層交叉驗證）。可保持類別比例一致。 |\n",
        "| 13 | Fold Number | 10 | 使用 10-fold Cross Validation。 |\n",
        "| 14 | CPU Jobs | -1 | 使用所有 CPU 核心加速訓練。 |\n",
        "| 15 | Use GPU | False | 沒使用 GPU。如果模型支援 GPU，可以手動開啟。 |\n",
        "| 16 | Log Experiment | False | 沒有使用實驗記錄功能（如 MLflow）。 |\n",
        "| 17 | Experiment Name | clf-default-name | 預設的實驗名稱（可自訂）。 |\n",
        "| 18 | USI | 238b | 唯一識別碼（Unique Session Identifier），用於追蹤實驗。 |\n",
        "\n",
        "---\n",
        "\n",
        "📌 **小提醒**：這個表只會在 `setup()` 成功執行時出現，幫助我們確認資料預處理與建模環境已成功建立。"
      ],
      "metadata": {
        "id": "7bzjGjXtBmUV"
      }
    },
    {
      "cell_type": "markdown",
      "source": [
        "## Compare Models"
      ],
      "metadata": {
        "id": "SAtfYIKk_hwL"
      }
    },
    {
      "cell_type": "code",
      "source": [
        "# functional API\n",
        "best = compare_models()\n",
        "print(best)"
      ],
      "metadata": {
        "id": "h1tIVgVN_i24"
      },
      "execution_count": null,
      "outputs": []
    },
    {
      "cell_type": "markdown",
      "source": [
        "## Analyze Model"
      ],
      "metadata": {
        "id": "qn0G-ujJCIyY"
      }
    },
    {
      "cell_type": "code",
      "source": [
        "# functional API\n",
        "evaluate_model(best)"
      ],
      "metadata": {
        "id": "HLx2I5CdCJbh"
      },
      "execution_count": null,
      "outputs": []
    },
    {
      "cell_type": "markdown",
      "source": [
        "## 📊 PyCaret 模型分析報告：Logistic Regression（重點圖表）\n",
        "\n",
        "### 🔄 Pipeline Plot\n",
        "這張圖呈現了 PyCaret 自動建立的完整資料處理流程（Pipeline）：\n",
        "\n",
        "Raw Data → SimpleImputer（數值） → SimpleImputer（類別） → CleanColumnNames → LogisticRegression\n",
        "\n",
        "\n",
        "- **SimpleImputer**：補齊遺失值，數值補平均、類別補眾數\n",
        "- **CleanColumnNames**：欄位名稱標準化（移除空格、特殊字元等）\n",
        "- **LogisticRegression**：使用邏輯斯迴歸作為分類模型\n",
        "\n",
        "---\n",
        "\n",
        "### ⚙️ Hyperparameters（模型參數）\n",
        "使用的 Logistic Regression 預設超參數如下：\n",
        "\n",
        "| 參數 | 說明 |\n",
        "|------|------|\n",
        "| C = 1.0 | 正則化強度（越小代表越強正則化） |\n",
        "| penalty = l2 | 使用 L2 正則化 |\n",
        "| solver = lbfgs | 使用牛頓法優化器 |\n",
        "| max_iter = 1000 | 最多迭代次數 |\n",
        "| fit_intercept = True | 是否估計截距項 |\n",
        "| random_state = 123 | 設定隨機種子以利重現 |\n",
        "\n",
        "---\n",
        "\n",
        "### 📈 AUC（ROC Curve）分析\n",
        "\n",
        "本圖呈現 Logistic Regression 模型在不同判別閾值（threshold）下的分類能力。\n",
        "\n",
        "共包含四條 ROC 曲線，各自意義如下：\n",
        "\n",
        "- **ROC of class 0（AUC = 0.86）**  \n",
        "  表示以 class 0 為 positive 類別時，模型將 class 0 判別正確的能力（即：真陽性率 vs 假陽性率）。\n",
        "\n",
        "- **ROC of class 1（AUC = 0.86）**  \n",
        "  表示以 class 1 為 positive 類別時，模型將 class 1 判別正確的能力。\n",
        "\n",
        "- **micro-average ROC（AUC = 0.86）**  \n",
        "  是基於所有樣本的 TP、FP、FN、TN 加總後計算出來的平均 AUC。若樣本數不平衡時，會偏向樣本數較多的類別。\n",
        "\n",
        "- **macro-average ROC（AUC = 0.86）**  \n",
        "  是對每一個類別各自計算 AUC，再進行平均，**不考慮樣本數比例**，強調各類別公平的表現。\n",
        "\n",
        "📌 **結論**：  \n",
        "四條 AUC 值皆為 0.86，代表模型對兩類別（class 0 和 class 1）皆有良好的區辨能力，且整體表現穩定、無偏頗。\n",
        "\n",
        "---\n",
        "\n",
        "### 📊 Confusion Matrix（混淆矩陣）\n",
        "\n",
        "|               | 預測 0 | 預測 1 |\n",
        "|---------------|--------|--------|\n",
        "| **實際 0**     | 132    | 18     |\n",
        "| **實際 1**     | 38     | 43     |\n",
        "\n",
        "- **True Negatives (TN) = 132**  \n",
        "  實際為 0，模型也正確預測為 0 → ✅ 沒發生事件，成功辨識\n",
        "\n",
        "- **False Positives (FP) = 18**  \n",
        "  實際為 0，但模型預測為 1 → ❌ 錯判為發生事件（假警報）\n",
        "\n",
        "- **False Negatives (FN) = 38**  \n",
        "  實際為 1，但模型預測為 0 → ❌ 該預測會發生但漏判（錯失）\n",
        "\n",
        "- **True Positives (TP) = 43**  \n",
        "  實際為 1，模型也預測為 1 → ✅ 有事件發生，成功抓到\n",
        "\n",
        "#### 📌 總結與模型意涵：\n",
        "\n",
        "- 模型對 **class 0**（沒事）預測能力強，因為 TN = 132，FP 只有 18\n",
        "- 模型對 **class 1** 的表現稍弱，因為漏判了 38 筆（FN），成功抓到的 TP 只有 43 筆\n",
        "\n",
        "你也可以搭配這些計算：\n",
        "\n",
        "- **Accuracy** = (TP + TN) / 所有資料 = (132 + 43) / 231 ≈ 0.758\n",
        "- **Precision (class 1)** = TP / (TP + FP) = 43 / (43 + 18) ≈ 0.705\n",
        "- **Recall (class 1)** = TP / (TP + FN) = 43 / (43 + 38) ≈ 0.531\n",
        "- **F1 Score** = 調和平均 ≈ 0.606\n",
        "這些數字也會出現在 Class Report 中。\n",
        "\n",
        "---\n",
        "\n",
        "### 🧭 Threshold Plot（分類門檻分析圖）\n",
        "\n",
        "此圖用來觀察 **不同閾值（threshold）對 precision、recall、F1 score 的影響**。\n",
        "透過此圖，我們能找出**最佳的分類門檻**。\n",
        "\n",
        "---\n",
        "\n",
        "#### 🔍 三條主要曲線說明：\n",
        "\n",
        "| 曲線代表 | 指標說明 |\n",
        "|----------|-----------|\n",
        "| 藍線     | **Precision（精確率）**：預測為 1 中，有多少是真的 |\n",
        "| 綠線     | **Recall（召回率）**：實際為 1 中，有多少被找出來 |\n",
        "| 紅線     | **F1 Score**：精確率與召回率的調和平均（綜合指標） |\n",
        "\n",
        "- **最佳 threshold ≈ 0.48**（F1 分數最高點）\n",
        "\n",
        "可以根據這個圖選擇最佳 threshold，再進行預測：\n",
        "\n",
        "```python\n",
        "predict_model(model, probability_threshold=0.48)\n",
        "```\n",
        "\n",
        "---\n",
        "\n",
        "### 🧪 Class Report（分類報告）\n",
        "\n",
        "| 類別 | Precision | Recall | F1-score | Support |\n",
        "|------|-----------|--------|----------|---------|\n",
        "| 1    | 0.705     | 0.531  | 0.606    | 81      |\n",
        "| 0    | 0.776     | 0.880  | 0.825    | 150     |\n",
        "\n",
        "- 類別 0 較易正確分類，類別 1 表現略弱\n",
        "- 顯示模型在處理正負樣本上的不平衡狀況\n",
        "\n",
        "---\n"
      ],
      "metadata": {
        "id": "rqM5N3MRDf_L"
      }
    },
    {
      "cell_type": "markdown",
      "source": [
        "## Predictions"
      ],
      "metadata": {
        "id": "5cDVy_7sLFF_"
      }
    },
    {
      "cell_type": "code",
      "source": [
        "# functional API\n",
        "predict_model(best) # test_data"
      ],
      "metadata": {
        "id": "NZC_fWhIJT_w"
      },
      "execution_count": null,
      "outputs": []
    },
    {
      "cell_type": "code",
      "source": [
        "# functional API\n",
        "print(data.shape)  # Print the shape (rows, columns) of the dataset\n",
        "predictions = predict_model(best, data=data)  # Use the best trained model to make predictions on the full data\n",
        "predictions.head()"
      ],
      "metadata": {
        "id": "_7ZURzLGNeQF"
      },
      "execution_count": null,
      "outputs": []
    },
    {
      "cell_type": "code",
      "source": [
        "# functional API\n",
        "predictions = predict_model(best, data=data, raw_score=True) # return raw class probabilities\n",
        "predictions.head()"
      ],
      "metadata": {
        "id": "9JtwmfnDNlOV"
      },
      "execution_count": null,
      "outputs": []
    },
    {
      "cell_type": "markdown",
      "source": [
        "## Save the model\n"
      ],
      "metadata": {
        "id": "YhpBuyZdP7ev"
      }
    },
    {
      "cell_type": "code",
      "source": [
        "# functional API\n",
        "save_model(best, 'best_model')"
      ],
      "metadata": {
        "id": "FtfECGlgP9iz"
      },
      "execution_count": null,
      "outputs": []
    },
    {
      "cell_type": "markdown",
      "source": [
        "## To load the model back in environment"
      ],
      "metadata": {
        "id": "M61n6eKDQd4p"
      }
    },
    {
      "cell_type": "code",
      "source": [
        "# functional API\n",
        "loaded_model = load_model('best_model')\n",
        "print(loaded_model)"
      ],
      "metadata": {
        "id": "B3oOMqsOQfUG"
      },
      "execution_count": null,
      "outputs": []
    }
  ]
}